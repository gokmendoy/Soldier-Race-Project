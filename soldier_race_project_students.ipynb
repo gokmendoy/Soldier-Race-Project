{
 "cells": [
  {
   "cell_type": "markdown",
   "metadata": {
    "id": "rfUdHCfe1b6v"
   },
   "source": [
    "___\n",
    "\n",
    "<p style=\"text-align: center;\"><img src=\"https://docs.google.com/uc?id=1lY0Uj5R04yMY3-ZppPWxqCr5pvBLYPnV\" class=\"img-fluid\" alt=\"CLRSWY\"></p>\n",
    "\n",
    "___"
   ]
  },
  {
   "cell_type": "markdown",
   "metadata": {
    "cell_style": "split",
    "heading_collapsed": true,
    "id": "CvFxPmf41b6y"
   },
   "source": [
    "# WELCOME!"
   ]
  },
  {
   "cell_type": "markdown",
   "metadata": {
    "cell_style": "split",
    "hidden": true,
    "id": "WZUMKNQY1b6y"
   },
   "source": [
    "In this project, you must apply EDA processes for the development of predictive models. Handling outliers, domain knowledge and feature engineering will be challenges.\n",
    "\n",
    "Also, this project aims to improve your ability to implement algorithms for Multi-Class Classification. Thus, you will have the opportunity to implement many algorithms commonly used for Multi-Class Classification problems.\n",
    "\n",
    "Before diving into the project, please take a look at the determines and tasks."
   ]
  },
  {
   "cell_type": "markdown",
   "metadata": {
    "cell_style": "split",
    "heading_collapsed": true,
    "id": "laCRtJs51b6z"
   },
   "source": [
    "# Determines"
   ]
  },
  {
   "cell_type": "markdown",
   "metadata": {
    "cell_style": "split",
    "hidden": true,
    "id": "iixh9Bej1b6z"
   },
   "source": [
    "The 2012 US Army Anthropometric Survey (ANSUR II) was executed by the Natick Soldier Research, Development and Engineering Center (NSRDEC) from October 2010 to April 2012 and is comprised of personnel representing the total US Army force to include the US Army Active Duty, Reserves, and National Guard. In addition to the anthropometric and demographic data described below, the ANSUR II database also consists of 3D whole body, foot, and head scans of Soldier participants. These 3D data are not publicly available out of respect for the privacy of ANSUR II participants. The data from this survey are used for a wide range of equipment design, sizing, and tariffing applications within the military and has many potential commercial, industrial, and academic applications.\n",
    "\n",
    "The ANSUR II working databases contain 93 anthropometric measurements which were directly measured, and 15 demographic/administrative variables explained below. The ANSUR II Male working database contains a total sample of 4,082 subjects. The ANSUR II Female working database contains a total sample of 1,986 subjects.\n",
    "\n",
    "\n",
    "DATA DICT:\n",
    "https://data.world/datamil/ansur-ii-data-dictionary/workspace/file?filename=ANSUR+II+Databases+Overview.pdf\n",
    "\n",
    "---\n",
    "\n",
    "To achieve high prediction success, you must understand the data well and develop different approaches that can affect the dependent variable.\n",
    "\n",
    "Firstly, try to understand the dataset column by column using pandas module. Do research within the scope of domain (body scales, and race characteristics) knowledge on the internet to get to know the data set in the fastest way. \n",
    "\n",
    "You will implement ***Logistic Regression, Support Vector Machine, XGBoost, Random Forest*** algorithms. Also, evaluate the success of your models with appropriate performance metrics.\n",
    "\n",
    "At the end of the project, choose the most successful model and try to enhance the scores with ***SMOTE*** make it ready to deploy. Furthermore, use ***SHAP*** to explain how the best model you choose works."
   ]
  },
  {
   "cell_type": "markdown",
   "metadata": {
    "cell_style": "split",
    "heading_collapsed": true,
    "id": "P2UckCvP1b60"
   },
   "source": [
    "# Tasks"
   ]
  },
  {
   "cell_type": "markdown",
   "metadata": {
    "cell_style": "split",
    "hidden": true,
    "id": "gCVDEsGB1b60"
   },
   "source": [
    "#### 1. Exploratory Data Analysis (EDA)\n",
    "- Import Libraries, Load Dataset, Exploring Data\n",
    "\n",
    "    *i. Import Libraries*\n",
    "    \n",
    "    *ii. Ingest Data *\n",
    "    \n",
    "    *iii. Explore Data*\n",
    "    \n",
    "    *iv. Outlier Detection*\n",
    "    \n",
    "    *v.  Drop unnecessary features*\n",
    "\n",
    "#### 2. Data Preprocessing\n",
    "- Scale (if needed)\n",
    "- Separete the data frame for evaluation purposes\n",
    "\n",
    "#### 3. Multi-class Classification\n",
    "- Import libraries\n",
    "- Implement SVM Classifer\n",
    "- Implement Decision Tree Classifier\n",
    "- Implement Random Forest Classifer\n",
    "- Implement XGBoost Classifer\n",
    "- Compare The Models\n",
    "\n"
   ]
  },
  {
   "cell_type": "markdown",
   "metadata": {
    "heading_collapsed": true,
    "id": "Y5-Kay1Eqvdj"
   },
   "source": [
    "# EDA\n",
    "- Drop unnecessary colums\n",
    "- Drop DODRace class if value count below 500 (we assume that our data model can't learn if it is below 500)"
   ]
  },
  {
   "cell_type": "markdown",
   "metadata": {
    "heading_collapsed": true,
    "hidden": true,
    "id": "K7UZHtvu1b62"
   },
   "source": [
    "## Import Libraries\n",
    "Besides Numpy and Pandas, you need to import the necessary modules for data visualization, data preprocessing, Model building and tuning.\n",
    "\n",
    "*Note: Check out the course materials.*"
   ]
  },
  {
   "cell_type": "code",
   "execution_count": 1,
   "metadata": {
    "hidden": true,
    "id": "OqnRjwHB1b64"
   },
   "outputs": [],
   "source": [
    "import pandas as pd      \n",
    "import numpy as np \n",
    "import matplotlib.pyplot as plt\n",
    "import seaborn as sns\n",
    "\n",
    "import warnings\n",
    "warnings.filterwarnings('ignore')"
   ]
  },
  {
   "cell_type": "markdown",
   "metadata": {
    "heading_collapsed": true,
    "hidden": true,
    "id": "C5lJeTBu1b65"
   },
   "source": [
    "## Ingest Data from links below and make a dataframe\n",
    "- Soldiers Male : https://query.data.world/s/h3pbhckz5ck4rc7qmt2wlknlnn7esr\n",
    "- Soldiers Female : https://query.data.world/s/sq27zz4hawg32yfxksqwijxmpwmynq"
   ]
  },
  {
   "cell_type": "code",
   "execution_count": 2,
   "metadata": {
    "colab": {
     "base_uri": "https://localhost:8080/",
     "height": 17
    },
    "hidden": true,
    "id": "tG5BsWraqX_y",
    "outputId": "a6e730fa-6848-4cfc-becb-284fc8cc99e5"
   },
   "outputs": [
    {
     "data": {
      "text/html": [
       "<div>\n",
       "<style scoped>\n",
       "    .dataframe tbody tr th:only-of-type {\n",
       "        vertical-align: middle;\n",
       "    }\n",
       "\n",
       "    .dataframe tbody tr th {\n",
       "        vertical-align: top;\n",
       "    }\n",
       "\n",
       "    .dataframe thead th {\n",
       "        text-align: right;\n",
       "    }\n",
       "</style>\n",
       "<table border=\"1\" class=\"dataframe\">\n",
       "  <thead>\n",
       "    <tr style=\"text-align: right;\">\n",
       "      <th></th>\n",
       "      <th>subjectid</th>\n",
       "      <th>abdominalextensiondepthsitting</th>\n",
       "      <th>acromialheight</th>\n",
       "      <th>acromionradialelength</th>\n",
       "      <th>anklecircumference</th>\n",
       "      <th>axillaheight</th>\n",
       "      <th>balloffootcircumference</th>\n",
       "      <th>balloffootlength</th>\n",
       "      <th>biacromialbreadth</th>\n",
       "      <th>bicepscircumferenceflexed</th>\n",
       "      <th>...</th>\n",
       "      <th>Branch</th>\n",
       "      <th>PrimaryMOS</th>\n",
       "      <th>SubjectsBirthLocation</th>\n",
       "      <th>SubjectNumericRace</th>\n",
       "      <th>Ethnicity</th>\n",
       "      <th>DODRace</th>\n",
       "      <th>Age</th>\n",
       "      <th>Heightin</th>\n",
       "      <th>Weightlbs</th>\n",
       "      <th>WritingPreference</th>\n",
       "    </tr>\n",
       "  </thead>\n",
       "  <tbody>\n",
       "    <tr>\n",
       "      <th>0</th>\n",
       "      <td>10027</td>\n",
       "      <td>266</td>\n",
       "      <td>1467</td>\n",
       "      <td>337</td>\n",
       "      <td>222</td>\n",
       "      <td>1347</td>\n",
       "      <td>253</td>\n",
       "      <td>202</td>\n",
       "      <td>401</td>\n",
       "      <td>369</td>\n",
       "      <td>...</td>\n",
       "      <td>Combat Arms</td>\n",
       "      <td>19D</td>\n",
       "      <td>North Dakota</td>\n",
       "      <td>1</td>\n",
       "      <td>NaN</td>\n",
       "      <td>1</td>\n",
       "      <td>41</td>\n",
       "      <td>71</td>\n",
       "      <td>180</td>\n",
       "      <td>Right hand</td>\n",
       "    </tr>\n",
       "    <tr>\n",
       "      <th>1</th>\n",
       "      <td>10032</td>\n",
       "      <td>233</td>\n",
       "      <td>1395</td>\n",
       "      <td>326</td>\n",
       "      <td>220</td>\n",
       "      <td>1293</td>\n",
       "      <td>245</td>\n",
       "      <td>193</td>\n",
       "      <td>394</td>\n",
       "      <td>338</td>\n",
       "      <td>...</td>\n",
       "      <td>Combat Support</td>\n",
       "      <td>68W</td>\n",
       "      <td>New York</td>\n",
       "      <td>1</td>\n",
       "      <td>NaN</td>\n",
       "      <td>1</td>\n",
       "      <td>35</td>\n",
       "      <td>68</td>\n",
       "      <td>160</td>\n",
       "      <td>Left hand</td>\n",
       "    </tr>\n",
       "    <tr>\n",
       "      <th>2</th>\n",
       "      <td>10033</td>\n",
       "      <td>287</td>\n",
       "      <td>1430</td>\n",
       "      <td>341</td>\n",
       "      <td>230</td>\n",
       "      <td>1327</td>\n",
       "      <td>256</td>\n",
       "      <td>196</td>\n",
       "      <td>427</td>\n",
       "      <td>408</td>\n",
       "      <td>...</td>\n",
       "      <td>Combat Support</td>\n",
       "      <td>68W</td>\n",
       "      <td>New York</td>\n",
       "      <td>2</td>\n",
       "      <td>NaN</td>\n",
       "      <td>2</td>\n",
       "      <td>42</td>\n",
       "      <td>68</td>\n",
       "      <td>205</td>\n",
       "      <td>Left hand</td>\n",
       "    </tr>\n",
       "    <tr>\n",
       "      <th>3</th>\n",
       "      <td>10092</td>\n",
       "      <td>234</td>\n",
       "      <td>1347</td>\n",
       "      <td>310</td>\n",
       "      <td>230</td>\n",
       "      <td>1239</td>\n",
       "      <td>262</td>\n",
       "      <td>199</td>\n",
       "      <td>401</td>\n",
       "      <td>359</td>\n",
       "      <td>...</td>\n",
       "      <td>Combat Service Support</td>\n",
       "      <td>88M</td>\n",
       "      <td>Wisconsin</td>\n",
       "      <td>1</td>\n",
       "      <td>NaN</td>\n",
       "      <td>1</td>\n",
       "      <td>31</td>\n",
       "      <td>66</td>\n",
       "      <td>175</td>\n",
       "      <td>Right hand</td>\n",
       "    </tr>\n",
       "    <tr>\n",
       "      <th>4</th>\n",
       "      <td>10093</td>\n",
       "      <td>250</td>\n",
       "      <td>1585</td>\n",
       "      <td>372</td>\n",
       "      <td>247</td>\n",
       "      <td>1478</td>\n",
       "      <td>267</td>\n",
       "      <td>224</td>\n",
       "      <td>435</td>\n",
       "      <td>356</td>\n",
       "      <td>...</td>\n",
       "      <td>Combat Service Support</td>\n",
       "      <td>92G</td>\n",
       "      <td>North Carolina</td>\n",
       "      <td>2</td>\n",
       "      <td>NaN</td>\n",
       "      <td>2</td>\n",
       "      <td>21</td>\n",
       "      <td>77</td>\n",
       "      <td>213</td>\n",
       "      <td>Right hand</td>\n",
       "    </tr>\n",
       "    <tr>\n",
       "      <th>...</th>\n",
       "      <td>...</td>\n",
       "      <td>...</td>\n",
       "      <td>...</td>\n",
       "      <td>...</td>\n",
       "      <td>...</td>\n",
       "      <td>...</td>\n",
       "      <td>...</td>\n",
       "      <td>...</td>\n",
       "      <td>...</td>\n",
       "      <td>...</td>\n",
       "      <td>...</td>\n",
       "      <td>...</td>\n",
       "      <td>...</td>\n",
       "      <td>...</td>\n",
       "      <td>...</td>\n",
       "      <td>...</td>\n",
       "      <td>...</td>\n",
       "      <td>...</td>\n",
       "      <td>...</td>\n",
       "      <td>...</td>\n",
       "      <td>...</td>\n",
       "    </tr>\n",
       "    <tr>\n",
       "      <th>4077</th>\n",
       "      <td>29442</td>\n",
       "      <td>235</td>\n",
       "      <td>1353</td>\n",
       "      <td>312</td>\n",
       "      <td>216</td>\n",
       "      <td>1263</td>\n",
       "      <td>228</td>\n",
       "      <td>193</td>\n",
       "      <td>384</td>\n",
       "      <td>318</td>\n",
       "      <td>...</td>\n",
       "      <td>Combat Arms</td>\n",
       "      <td>11B</td>\n",
       "      <td>Colorado</td>\n",
       "      <td>51</td>\n",
       "      <td>Blackfoot Cherokee Choctaw</td>\n",
       "      <td>1</td>\n",
       "      <td>22</td>\n",
       "      <td>67</td>\n",
       "      <td>160</td>\n",
       "      <td>Right hand</td>\n",
       "    </tr>\n",
       "    <tr>\n",
       "      <th>4078</th>\n",
       "      <td>29443</td>\n",
       "      <td>247</td>\n",
       "      <td>1473</td>\n",
       "      <td>336</td>\n",
       "      <td>234</td>\n",
       "      <td>1346</td>\n",
       "      <td>253</td>\n",
       "      <td>196</td>\n",
       "      <td>428</td>\n",
       "      <td>374</td>\n",
       "      <td>...</td>\n",
       "      <td>Combat Arms</td>\n",
       "      <td>91B</td>\n",
       "      <td>Oklahoma</td>\n",
       "      <td>1</td>\n",
       "      <td>NaN</td>\n",
       "      <td>1</td>\n",
       "      <td>22</td>\n",
       "      <td>71</td>\n",
       "      <td>194</td>\n",
       "      <td>Right hand</td>\n",
       "    </tr>\n",
       "    <tr>\n",
       "      <th>4079</th>\n",
       "      <td>29447</td>\n",
       "      <td>264</td>\n",
       "      <td>1394</td>\n",
       "      <td>313</td>\n",
       "      <td>227</td>\n",
       "      <td>1280</td>\n",
       "      <td>245</td>\n",
       "      <td>193</td>\n",
       "      <td>407</td>\n",
       "      <td>367</td>\n",
       "      <td>...</td>\n",
       "      <td>Combat Arms</td>\n",
       "      <td>13B</td>\n",
       "      <td>Oklahoma</td>\n",
       "      <td>1</td>\n",
       "      <td>NaN</td>\n",
       "      <td>1</td>\n",
       "      <td>23</td>\n",
       "      <td>67</td>\n",
       "      <td>186</td>\n",
       "      <td>Right hand</td>\n",
       "    </tr>\n",
       "    <tr>\n",
       "      <th>4080</th>\n",
       "      <td>29451</td>\n",
       "      <td>203</td>\n",
       "      <td>1417</td>\n",
       "      <td>327</td>\n",
       "      <td>223</td>\n",
       "      <td>1314</td>\n",
       "      <td>250</td>\n",
       "      <td>196</td>\n",
       "      <td>419</td>\n",
       "      <td>365</td>\n",
       "      <td>...</td>\n",
       "      <td>Combat Arms</td>\n",
       "      <td>13P</td>\n",
       "      <td>Oklahoma</td>\n",
       "      <td>1</td>\n",
       "      <td>NaN</td>\n",
       "      <td>1</td>\n",
       "      <td>22</td>\n",
       "      <td>69</td>\n",
       "      <td>165</td>\n",
       "      <td>Right hand</td>\n",
       "    </tr>\n",
       "    <tr>\n",
       "      <th>4081</th>\n",
       "      <td>29452</td>\n",
       "      <td>327</td>\n",
       "      <td>1523</td>\n",
       "      <td>358</td>\n",
       "      <td>226</td>\n",
       "      <td>1408</td>\n",
       "      <td>269</td>\n",
       "      <td>225</td>\n",
       "      <td>442</td>\n",
       "      <td>379</td>\n",
       "      <td>...</td>\n",
       "      <td>Combat Arms</td>\n",
       "      <td>92Y</td>\n",
       "      <td>Oklahoma</td>\n",
       "      <td>1</td>\n",
       "      <td>NaN</td>\n",
       "      <td>1</td>\n",
       "      <td>38</td>\n",
       "      <td>73</td>\n",
       "      <td>218</td>\n",
       "      <td>Right hand</td>\n",
       "    </tr>\n",
       "  </tbody>\n",
       "</table>\n",
       "<p>4082 rows × 108 columns</p>\n",
       "</div>"
      ],
      "text/plain": [
       "      subjectid  abdominalextensiondepthsitting  acromialheight  \\\n",
       "0         10027                             266            1467   \n",
       "1         10032                             233            1395   \n",
       "2         10033                             287            1430   \n",
       "3         10092                             234            1347   \n",
       "4         10093                             250            1585   \n",
       "...         ...                             ...             ...   \n",
       "4077      29442                             235            1353   \n",
       "4078      29443                             247            1473   \n",
       "4079      29447                             264            1394   \n",
       "4080      29451                             203            1417   \n",
       "4081      29452                             327            1523   \n",
       "\n",
       "      acromionradialelength  anklecircumference  axillaheight  \\\n",
       "0                       337                 222          1347   \n",
       "1                       326                 220          1293   \n",
       "2                       341                 230          1327   \n",
       "3                       310                 230          1239   \n",
       "4                       372                 247          1478   \n",
       "...                     ...                 ...           ...   \n",
       "4077                    312                 216          1263   \n",
       "4078                    336                 234          1346   \n",
       "4079                    313                 227          1280   \n",
       "4080                    327                 223          1314   \n",
       "4081                    358                 226          1408   \n",
       "\n",
       "      balloffootcircumference  balloffootlength  biacromialbreadth  \\\n",
       "0                         253               202                401   \n",
       "1                         245               193                394   \n",
       "2                         256               196                427   \n",
       "3                         262               199                401   \n",
       "4                         267               224                435   \n",
       "...                       ...               ...                ...   \n",
       "4077                      228               193                384   \n",
       "4078                      253               196                428   \n",
       "4079                      245               193                407   \n",
       "4080                      250               196                419   \n",
       "4081                      269               225                442   \n",
       "\n",
       "      bicepscircumferenceflexed  ...                  Branch  PrimaryMOS  \\\n",
       "0                           369  ...             Combat Arms         19D   \n",
       "1                           338  ...          Combat Support         68W   \n",
       "2                           408  ...          Combat Support         68W   \n",
       "3                           359  ...  Combat Service Support         88M   \n",
       "4                           356  ...  Combat Service Support         92G   \n",
       "...                         ...  ...                     ...         ...   \n",
       "4077                        318  ...             Combat Arms         11B   \n",
       "4078                        374  ...             Combat Arms         91B   \n",
       "4079                        367  ...             Combat Arms         13B   \n",
       "4080                        365  ...             Combat Arms         13P   \n",
       "4081                        379  ...             Combat Arms         92Y   \n",
       "\n",
       "      SubjectsBirthLocation  SubjectNumericRace                   Ethnicity  \\\n",
       "0              North Dakota                   1                         NaN   \n",
       "1                  New York                   1                         NaN   \n",
       "2                  New York                   2                         NaN   \n",
       "3                 Wisconsin                   1                         NaN   \n",
       "4            North Carolina                   2                         NaN   \n",
       "...                     ...                 ...                         ...   \n",
       "4077               Colorado                  51  Blackfoot Cherokee Choctaw   \n",
       "4078               Oklahoma                   1                         NaN   \n",
       "4079               Oklahoma                   1                         NaN   \n",
       "4080               Oklahoma                   1                         NaN   \n",
       "4081               Oklahoma                   1                         NaN   \n",
       "\n",
       "      DODRace  Age  Heightin  Weightlbs  WritingPreference  \n",
       "0           1   41        71        180         Right hand  \n",
       "1           1   35        68        160          Left hand  \n",
       "2           2   42        68        205          Left hand  \n",
       "3           1   31        66        175         Right hand  \n",
       "4           2   21        77        213         Right hand  \n",
       "...       ...  ...       ...        ...                ...  \n",
       "4077        1   22        67        160         Right hand  \n",
       "4078        1   22        71        194         Right hand  \n",
       "4079        1   23        67        186         Right hand  \n",
       "4080        1   22        69        165         Right hand  \n",
       "4081        1   38        73        218         Right hand  \n",
       "\n",
       "[4082 rows x 108 columns]"
      ]
     },
     "execution_count": 2,
     "metadata": {},
     "output_type": "execute_result"
    }
   ],
   "source": [
    "df_m = pd.read_csv('MALE.csv', encoding='latin-1' )\n",
    "df_m"
   ]
  },
  {
   "cell_type": "code",
   "execution_count": 3,
   "metadata": {},
   "outputs": [
    {
     "data": {
      "text/html": [
       "<div>\n",
       "<style scoped>\n",
       "    .dataframe tbody tr th:only-of-type {\n",
       "        vertical-align: middle;\n",
       "    }\n",
       "\n",
       "    .dataframe tbody tr th {\n",
       "        vertical-align: top;\n",
       "    }\n",
       "\n",
       "    .dataframe thead th {\n",
       "        text-align: right;\n",
       "    }\n",
       "</style>\n",
       "<table border=\"1\" class=\"dataframe\">\n",
       "  <thead>\n",
       "    <tr style=\"text-align: right;\">\n",
       "      <th></th>\n",
       "      <th>subjectid</th>\n",
       "      <th>abdominalextensiondepthsitting</th>\n",
       "      <th>acromialheight</th>\n",
       "      <th>acromionradialelength</th>\n",
       "      <th>anklecircumference</th>\n",
       "      <th>axillaheight</th>\n",
       "      <th>balloffootcircumference</th>\n",
       "      <th>balloffootlength</th>\n",
       "      <th>biacromialbreadth</th>\n",
       "      <th>bicepscircumferenceflexed</th>\n",
       "      <th>...</th>\n",
       "      <th>Branch</th>\n",
       "      <th>PrimaryMOS</th>\n",
       "      <th>SubjectsBirthLocation</th>\n",
       "      <th>SubjectNumericRace</th>\n",
       "      <th>Ethnicity</th>\n",
       "      <th>DODRace</th>\n",
       "      <th>Age</th>\n",
       "      <th>Heightin</th>\n",
       "      <th>Weightlbs</th>\n",
       "      <th>WritingPreference</th>\n",
       "    </tr>\n",
       "  </thead>\n",
       "  <tbody>\n",
       "    <tr>\n",
       "      <th>0</th>\n",
       "      <td>10037</td>\n",
       "      <td>231</td>\n",
       "      <td>1282</td>\n",
       "      <td>301</td>\n",
       "      <td>204</td>\n",
       "      <td>1180</td>\n",
       "      <td>222</td>\n",
       "      <td>177</td>\n",
       "      <td>373</td>\n",
       "      <td>315</td>\n",
       "      <td>...</td>\n",
       "      <td>Combat Support</td>\n",
       "      <td>92Y</td>\n",
       "      <td>Germany</td>\n",
       "      <td>2</td>\n",
       "      <td>NaN</td>\n",
       "      <td>2</td>\n",
       "      <td>26</td>\n",
       "      <td>61</td>\n",
       "      <td>142</td>\n",
       "      <td>Right hand</td>\n",
       "    </tr>\n",
       "    <tr>\n",
       "      <th>1</th>\n",
       "      <td>10038</td>\n",
       "      <td>194</td>\n",
       "      <td>1379</td>\n",
       "      <td>320</td>\n",
       "      <td>207</td>\n",
       "      <td>1292</td>\n",
       "      <td>225</td>\n",
       "      <td>178</td>\n",
       "      <td>372</td>\n",
       "      <td>272</td>\n",
       "      <td>...</td>\n",
       "      <td>Combat Service Support</td>\n",
       "      <td>25U</td>\n",
       "      <td>California</td>\n",
       "      <td>3</td>\n",
       "      <td>Mexican</td>\n",
       "      <td>3</td>\n",
       "      <td>21</td>\n",
       "      <td>64</td>\n",
       "      <td>120</td>\n",
       "      <td>Right hand</td>\n",
       "    </tr>\n",
       "    <tr>\n",
       "      <th>2</th>\n",
       "      <td>10042</td>\n",
       "      <td>183</td>\n",
       "      <td>1369</td>\n",
       "      <td>329</td>\n",
       "      <td>233</td>\n",
       "      <td>1271</td>\n",
       "      <td>237</td>\n",
       "      <td>196</td>\n",
       "      <td>397</td>\n",
       "      <td>300</td>\n",
       "      <td>...</td>\n",
       "      <td>Combat Service Support</td>\n",
       "      <td>35D</td>\n",
       "      <td>Texas</td>\n",
       "      <td>1</td>\n",
       "      <td>NaN</td>\n",
       "      <td>1</td>\n",
       "      <td>23</td>\n",
       "      <td>68</td>\n",
       "      <td>147</td>\n",
       "      <td>Right hand</td>\n",
       "    </tr>\n",
       "    <tr>\n",
       "      <th>3</th>\n",
       "      <td>10043</td>\n",
       "      <td>261</td>\n",
       "      <td>1356</td>\n",
       "      <td>306</td>\n",
       "      <td>214</td>\n",
       "      <td>1250</td>\n",
       "      <td>240</td>\n",
       "      <td>188</td>\n",
       "      <td>384</td>\n",
       "      <td>364</td>\n",
       "      <td>...</td>\n",
       "      <td>Combat Service Support</td>\n",
       "      <td>25U</td>\n",
       "      <td>District of Columbia</td>\n",
       "      <td>8</td>\n",
       "      <td>Caribbean Islander</td>\n",
       "      <td>2</td>\n",
       "      <td>22</td>\n",
       "      <td>66</td>\n",
       "      <td>175</td>\n",
       "      <td>Right hand</td>\n",
       "    </tr>\n",
       "    <tr>\n",
       "      <th>4</th>\n",
       "      <td>10051</td>\n",
       "      <td>309</td>\n",
       "      <td>1303</td>\n",
       "      <td>308</td>\n",
       "      <td>214</td>\n",
       "      <td>1210</td>\n",
       "      <td>217</td>\n",
       "      <td>182</td>\n",
       "      <td>378</td>\n",
       "      <td>320</td>\n",
       "      <td>...</td>\n",
       "      <td>Combat Arms</td>\n",
       "      <td>42A</td>\n",
       "      <td>Texas</td>\n",
       "      <td>1</td>\n",
       "      <td>NaN</td>\n",
       "      <td>1</td>\n",
       "      <td>45</td>\n",
       "      <td>63</td>\n",
       "      <td>195</td>\n",
       "      <td>Right hand</td>\n",
       "    </tr>\n",
       "    <tr>\n",
       "      <th>...</th>\n",
       "      <td>...</td>\n",
       "      <td>...</td>\n",
       "      <td>...</td>\n",
       "      <td>...</td>\n",
       "      <td>...</td>\n",
       "      <td>...</td>\n",
       "      <td>...</td>\n",
       "      <td>...</td>\n",
       "      <td>...</td>\n",
       "      <td>...</td>\n",
       "      <td>...</td>\n",
       "      <td>...</td>\n",
       "      <td>...</td>\n",
       "      <td>...</td>\n",
       "      <td>...</td>\n",
       "      <td>...</td>\n",
       "      <td>...</td>\n",
       "      <td>...</td>\n",
       "      <td>...</td>\n",
       "      <td>...</td>\n",
       "      <td>...</td>\n",
       "    </tr>\n",
       "    <tr>\n",
       "      <th>1981</th>\n",
       "      <td>29501</td>\n",
       "      <td>285</td>\n",
       "      <td>1392</td>\n",
       "      <td>335</td>\n",
       "      <td>223</td>\n",
       "      <td>1297</td>\n",
       "      <td>252</td>\n",
       "      <td>196</td>\n",
       "      <td>368</td>\n",
       "      <td>299</td>\n",
       "      <td>...</td>\n",
       "      <td>Combat Support</td>\n",
       "      <td>42A</td>\n",
       "      <td>Texas</td>\n",
       "      <td>3</td>\n",
       "      <td>Mexican</td>\n",
       "      <td>3</td>\n",
       "      <td>51</td>\n",
       "      <td>67</td>\n",
       "      <td>180</td>\n",
       "      <td>Right hand</td>\n",
       "    </tr>\n",
       "    <tr>\n",
       "      <th>1982</th>\n",
       "      <td>29502</td>\n",
       "      <td>262</td>\n",
       "      <td>1324</td>\n",
       "      <td>301</td>\n",
       "      <td>202</td>\n",
       "      <td>1204</td>\n",
       "      <td>236</td>\n",
       "      <td>181</td>\n",
       "      <td>378</td>\n",
       "      <td>294</td>\n",
       "      <td>...</td>\n",
       "      <td>Combat Support</td>\n",
       "      <td>25U</td>\n",
       "      <td>Texas</td>\n",
       "      <td>3</td>\n",
       "      <td>Mexican</td>\n",
       "      <td>3</td>\n",
       "      <td>40</td>\n",
       "      <td>63</td>\n",
       "      <td>150</td>\n",
       "      <td>Right hand</td>\n",
       "    </tr>\n",
       "    <tr>\n",
       "      <th>1983</th>\n",
       "      <td>29503</td>\n",
       "      <td>260</td>\n",
       "      <td>1334</td>\n",
       "      <td>318</td>\n",
       "      <td>213</td>\n",
       "      <td>1259</td>\n",
       "      <td>234</td>\n",
       "      <td>183</td>\n",
       "      <td>363</td>\n",
       "      <td>332</td>\n",
       "      <td>...</td>\n",
       "      <td>Combat Support</td>\n",
       "      <td>42A</td>\n",
       "      <td>Texas</td>\n",
       "      <td>2</td>\n",
       "      <td>NaN</td>\n",
       "      <td>2</td>\n",
       "      <td>40</td>\n",
       "      <td>66</td>\n",
       "      <td>168</td>\n",
       "      <td>Right hand</td>\n",
       "    </tr>\n",
       "    <tr>\n",
       "      <th>1984</th>\n",
       "      <td>29511</td>\n",
       "      <td>205</td>\n",
       "      <td>1293</td>\n",
       "      <td>302</td>\n",
       "      <td>199</td>\n",
       "      <td>1207</td>\n",
       "      <td>213</td>\n",
       "      <td>163</td>\n",
       "      <td>376</td>\n",
       "      <td>276</td>\n",
       "      <td>...</td>\n",
       "      <td>Combat Support</td>\n",
       "      <td>92Y</td>\n",
       "      <td>Texas</td>\n",
       "      <td>3</td>\n",
       "      <td>Mexican</td>\n",
       "      <td>3</td>\n",
       "      <td>31</td>\n",
       "      <td>63</td>\n",
       "      <td>133</td>\n",
       "      <td>Right hand</td>\n",
       "    </tr>\n",
       "    <tr>\n",
       "      <th>1985</th>\n",
       "      <td>920103</td>\n",
       "      <td>238</td>\n",
       "      <td>1346</td>\n",
       "      <td>308</td>\n",
       "      <td>210</td>\n",
       "      <td>1256</td>\n",
       "      <td>236</td>\n",
       "      <td>188</td>\n",
       "      <td>361</td>\n",
       "      <td>285</td>\n",
       "      <td>...</td>\n",
       "      <td>Combat Support</td>\n",
       "      <td>92F</td>\n",
       "      <td>Texas</td>\n",
       "      <td>3</td>\n",
       "      <td>Mexican</td>\n",
       "      <td>3</td>\n",
       "      <td>27</td>\n",
       "      <td>66</td>\n",
       "      <td>132</td>\n",
       "      <td>Right hand</td>\n",
       "    </tr>\n",
       "  </tbody>\n",
       "</table>\n",
       "<p>1986 rows × 108 columns</p>\n",
       "</div>"
      ],
      "text/plain": [
       "      subjectid  abdominalextensiondepthsitting  acromialheight  \\\n",
       "0         10037                             231            1282   \n",
       "1         10038                             194            1379   \n",
       "2         10042                             183            1369   \n",
       "3         10043                             261            1356   \n",
       "4         10051                             309            1303   \n",
       "...         ...                             ...             ...   \n",
       "1981      29501                             285            1392   \n",
       "1982      29502                             262            1324   \n",
       "1983      29503                             260            1334   \n",
       "1984      29511                             205            1293   \n",
       "1985     920103                             238            1346   \n",
       "\n",
       "      acromionradialelength  anklecircumference  axillaheight  \\\n",
       "0                       301                 204          1180   \n",
       "1                       320                 207          1292   \n",
       "2                       329                 233          1271   \n",
       "3                       306                 214          1250   \n",
       "4                       308                 214          1210   \n",
       "...                     ...                 ...           ...   \n",
       "1981                    335                 223          1297   \n",
       "1982                    301                 202          1204   \n",
       "1983                    318                 213          1259   \n",
       "1984                    302                 199          1207   \n",
       "1985                    308                 210          1256   \n",
       "\n",
       "      balloffootcircumference  balloffootlength  biacromialbreadth  \\\n",
       "0                         222               177                373   \n",
       "1                         225               178                372   \n",
       "2                         237               196                397   \n",
       "3                         240               188                384   \n",
       "4                         217               182                378   \n",
       "...                       ...               ...                ...   \n",
       "1981                      252               196                368   \n",
       "1982                      236               181                378   \n",
       "1983                      234               183                363   \n",
       "1984                      213               163                376   \n",
       "1985                      236               188                361   \n",
       "\n",
       "      bicepscircumferenceflexed  ...                  Branch  PrimaryMOS  \\\n",
       "0                           315  ...          Combat Support         92Y   \n",
       "1                           272  ...  Combat Service Support         25U   \n",
       "2                           300  ...  Combat Service Support         35D   \n",
       "3                           364  ...  Combat Service Support         25U   \n",
       "4                           320  ...             Combat Arms         42A   \n",
       "...                         ...  ...                     ...         ...   \n",
       "1981                        299  ...          Combat Support         42A   \n",
       "1982                        294  ...          Combat Support         25U   \n",
       "1983                        332  ...          Combat Support         42A   \n",
       "1984                        276  ...          Combat Support         92Y   \n",
       "1985                        285  ...          Combat Support         92F   \n",
       "\n",
       "      SubjectsBirthLocation  SubjectNumericRace           Ethnicity  DODRace  \\\n",
       "0                   Germany                   2                 NaN        2   \n",
       "1                California                   3             Mexican        3   \n",
       "2                     Texas                   1                 NaN        1   \n",
       "3      District of Columbia                   8  Caribbean Islander        2   \n",
       "4                     Texas                   1                 NaN        1   \n",
       "...                     ...                 ...                 ...      ...   \n",
       "1981                  Texas                   3             Mexican        3   \n",
       "1982                  Texas                   3             Mexican        3   \n",
       "1983                  Texas                   2                 NaN        2   \n",
       "1984                  Texas                   3             Mexican        3   \n",
       "1985                  Texas                   3             Mexican        3   \n",
       "\n",
       "      Age  Heightin  Weightlbs  WritingPreference  \n",
       "0      26        61        142         Right hand  \n",
       "1      21        64        120         Right hand  \n",
       "2      23        68        147         Right hand  \n",
       "3      22        66        175         Right hand  \n",
       "4      45        63        195         Right hand  \n",
       "...   ...       ...        ...                ...  \n",
       "1981   51        67        180         Right hand  \n",
       "1982   40        63        150         Right hand  \n",
       "1983   40        66        168         Right hand  \n",
       "1984   31        63        133         Right hand  \n",
       "1985   27        66        132         Right hand  \n",
       "\n",
       "[1986 rows x 108 columns]"
      ]
     },
     "execution_count": 3,
     "metadata": {},
     "output_type": "execute_result"
    }
   ],
   "source": [
    "df_f = pd.read_csv('FEMALE.csv', encoding='latin-1' )\n",
    "df_f.rename(columns={'SubjectId': 'subjectid'}, inplace=True)\n",
    "df_f"
   ]
  },
  {
   "cell_type": "code",
   "execution_count": 4,
   "metadata": {},
   "outputs": [
    {
     "data": {
      "text/html": [
       "<div>\n",
       "<style scoped>\n",
       "    .dataframe tbody tr th:only-of-type {\n",
       "        vertical-align: middle;\n",
       "    }\n",
       "\n",
       "    .dataframe tbody tr th {\n",
       "        vertical-align: top;\n",
       "    }\n",
       "\n",
       "    .dataframe thead th {\n",
       "        text-align: right;\n",
       "    }\n",
       "</style>\n",
       "<table border=\"1\" class=\"dataframe\">\n",
       "  <thead>\n",
       "    <tr style=\"text-align: right;\">\n",
       "      <th></th>\n",
       "      <th>subjectid</th>\n",
       "      <th>abdominalextensiondepthsitting</th>\n",
       "      <th>acromialheight</th>\n",
       "      <th>acromionradialelength</th>\n",
       "      <th>anklecircumference</th>\n",
       "      <th>axillaheight</th>\n",
       "      <th>balloffootcircumference</th>\n",
       "      <th>balloffootlength</th>\n",
       "      <th>biacromialbreadth</th>\n",
       "      <th>bicepscircumferenceflexed</th>\n",
       "      <th>...</th>\n",
       "      <th>Branch</th>\n",
       "      <th>PrimaryMOS</th>\n",
       "      <th>SubjectsBirthLocation</th>\n",
       "      <th>SubjectNumericRace</th>\n",
       "      <th>Ethnicity</th>\n",
       "      <th>DODRace</th>\n",
       "      <th>Age</th>\n",
       "      <th>Heightin</th>\n",
       "      <th>Weightlbs</th>\n",
       "      <th>WritingPreference</th>\n",
       "    </tr>\n",
       "  </thead>\n",
       "  <tbody>\n",
       "    <tr>\n",
       "      <th>0</th>\n",
       "      <td>10027</td>\n",
       "      <td>266</td>\n",
       "      <td>1467</td>\n",
       "      <td>337</td>\n",
       "      <td>222</td>\n",
       "      <td>1347</td>\n",
       "      <td>253</td>\n",
       "      <td>202</td>\n",
       "      <td>401</td>\n",
       "      <td>369</td>\n",
       "      <td>...</td>\n",
       "      <td>Combat Arms</td>\n",
       "      <td>19D</td>\n",
       "      <td>North Dakota</td>\n",
       "      <td>1</td>\n",
       "      <td>NaN</td>\n",
       "      <td>1</td>\n",
       "      <td>41</td>\n",
       "      <td>71</td>\n",
       "      <td>180</td>\n",
       "      <td>Right hand</td>\n",
       "    </tr>\n",
       "    <tr>\n",
       "      <th>1</th>\n",
       "      <td>10032</td>\n",
       "      <td>233</td>\n",
       "      <td>1395</td>\n",
       "      <td>326</td>\n",
       "      <td>220</td>\n",
       "      <td>1293</td>\n",
       "      <td>245</td>\n",
       "      <td>193</td>\n",
       "      <td>394</td>\n",
       "      <td>338</td>\n",
       "      <td>...</td>\n",
       "      <td>Combat Support</td>\n",
       "      <td>68W</td>\n",
       "      <td>New York</td>\n",
       "      <td>1</td>\n",
       "      <td>NaN</td>\n",
       "      <td>1</td>\n",
       "      <td>35</td>\n",
       "      <td>68</td>\n",
       "      <td>160</td>\n",
       "      <td>Left hand</td>\n",
       "    </tr>\n",
       "    <tr>\n",
       "      <th>2</th>\n",
       "      <td>10033</td>\n",
       "      <td>287</td>\n",
       "      <td>1430</td>\n",
       "      <td>341</td>\n",
       "      <td>230</td>\n",
       "      <td>1327</td>\n",
       "      <td>256</td>\n",
       "      <td>196</td>\n",
       "      <td>427</td>\n",
       "      <td>408</td>\n",
       "      <td>...</td>\n",
       "      <td>Combat Support</td>\n",
       "      <td>68W</td>\n",
       "      <td>New York</td>\n",
       "      <td>2</td>\n",
       "      <td>NaN</td>\n",
       "      <td>2</td>\n",
       "      <td>42</td>\n",
       "      <td>68</td>\n",
       "      <td>205</td>\n",
       "      <td>Left hand</td>\n",
       "    </tr>\n",
       "    <tr>\n",
       "      <th>3</th>\n",
       "      <td>10092</td>\n",
       "      <td>234</td>\n",
       "      <td>1347</td>\n",
       "      <td>310</td>\n",
       "      <td>230</td>\n",
       "      <td>1239</td>\n",
       "      <td>262</td>\n",
       "      <td>199</td>\n",
       "      <td>401</td>\n",
       "      <td>359</td>\n",
       "      <td>...</td>\n",
       "      <td>Combat Service Support</td>\n",
       "      <td>88M</td>\n",
       "      <td>Wisconsin</td>\n",
       "      <td>1</td>\n",
       "      <td>NaN</td>\n",
       "      <td>1</td>\n",
       "      <td>31</td>\n",
       "      <td>66</td>\n",
       "      <td>175</td>\n",
       "      <td>Right hand</td>\n",
       "    </tr>\n",
       "    <tr>\n",
       "      <th>4</th>\n",
       "      <td>10093</td>\n",
       "      <td>250</td>\n",
       "      <td>1585</td>\n",
       "      <td>372</td>\n",
       "      <td>247</td>\n",
       "      <td>1478</td>\n",
       "      <td>267</td>\n",
       "      <td>224</td>\n",
       "      <td>435</td>\n",
       "      <td>356</td>\n",
       "      <td>...</td>\n",
       "      <td>Combat Service Support</td>\n",
       "      <td>92G</td>\n",
       "      <td>North Carolina</td>\n",
       "      <td>2</td>\n",
       "      <td>NaN</td>\n",
       "      <td>2</td>\n",
       "      <td>21</td>\n",
       "      <td>77</td>\n",
       "      <td>213</td>\n",
       "      <td>Right hand</td>\n",
       "    </tr>\n",
       "    <tr>\n",
       "      <th>...</th>\n",
       "      <td>...</td>\n",
       "      <td>...</td>\n",
       "      <td>...</td>\n",
       "      <td>...</td>\n",
       "      <td>...</td>\n",
       "      <td>...</td>\n",
       "      <td>...</td>\n",
       "      <td>...</td>\n",
       "      <td>...</td>\n",
       "      <td>...</td>\n",
       "      <td>...</td>\n",
       "      <td>...</td>\n",
       "      <td>...</td>\n",
       "      <td>...</td>\n",
       "      <td>...</td>\n",
       "      <td>...</td>\n",
       "      <td>...</td>\n",
       "      <td>...</td>\n",
       "      <td>...</td>\n",
       "      <td>...</td>\n",
       "      <td>...</td>\n",
       "    </tr>\n",
       "    <tr>\n",
       "      <th>6063</th>\n",
       "      <td>29501</td>\n",
       "      <td>285</td>\n",
       "      <td>1392</td>\n",
       "      <td>335</td>\n",
       "      <td>223</td>\n",
       "      <td>1297</td>\n",
       "      <td>252</td>\n",
       "      <td>196</td>\n",
       "      <td>368</td>\n",
       "      <td>299</td>\n",
       "      <td>...</td>\n",
       "      <td>Combat Support</td>\n",
       "      <td>42A</td>\n",
       "      <td>Texas</td>\n",
       "      <td>3</td>\n",
       "      <td>Mexican</td>\n",
       "      <td>3</td>\n",
       "      <td>51</td>\n",
       "      <td>67</td>\n",
       "      <td>180</td>\n",
       "      <td>Right hand</td>\n",
       "    </tr>\n",
       "    <tr>\n",
       "      <th>6064</th>\n",
       "      <td>29502</td>\n",
       "      <td>262</td>\n",
       "      <td>1324</td>\n",
       "      <td>301</td>\n",
       "      <td>202</td>\n",
       "      <td>1204</td>\n",
       "      <td>236</td>\n",
       "      <td>181</td>\n",
       "      <td>378</td>\n",
       "      <td>294</td>\n",
       "      <td>...</td>\n",
       "      <td>Combat Support</td>\n",
       "      <td>25U</td>\n",
       "      <td>Texas</td>\n",
       "      <td>3</td>\n",
       "      <td>Mexican</td>\n",
       "      <td>3</td>\n",
       "      <td>40</td>\n",
       "      <td>63</td>\n",
       "      <td>150</td>\n",
       "      <td>Right hand</td>\n",
       "    </tr>\n",
       "    <tr>\n",
       "      <th>6065</th>\n",
       "      <td>29503</td>\n",
       "      <td>260</td>\n",
       "      <td>1334</td>\n",
       "      <td>318</td>\n",
       "      <td>213</td>\n",
       "      <td>1259</td>\n",
       "      <td>234</td>\n",
       "      <td>183</td>\n",
       "      <td>363</td>\n",
       "      <td>332</td>\n",
       "      <td>...</td>\n",
       "      <td>Combat Support</td>\n",
       "      <td>42A</td>\n",
       "      <td>Texas</td>\n",
       "      <td>2</td>\n",
       "      <td>NaN</td>\n",
       "      <td>2</td>\n",
       "      <td>40</td>\n",
       "      <td>66</td>\n",
       "      <td>168</td>\n",
       "      <td>Right hand</td>\n",
       "    </tr>\n",
       "    <tr>\n",
       "      <th>6066</th>\n",
       "      <td>29511</td>\n",
       "      <td>205</td>\n",
       "      <td>1293</td>\n",
       "      <td>302</td>\n",
       "      <td>199</td>\n",
       "      <td>1207</td>\n",
       "      <td>213</td>\n",
       "      <td>163</td>\n",
       "      <td>376</td>\n",
       "      <td>276</td>\n",
       "      <td>...</td>\n",
       "      <td>Combat Support</td>\n",
       "      <td>92Y</td>\n",
       "      <td>Texas</td>\n",
       "      <td>3</td>\n",
       "      <td>Mexican</td>\n",
       "      <td>3</td>\n",
       "      <td>31</td>\n",
       "      <td>63</td>\n",
       "      <td>133</td>\n",
       "      <td>Right hand</td>\n",
       "    </tr>\n",
       "    <tr>\n",
       "      <th>6067</th>\n",
       "      <td>920103</td>\n",
       "      <td>238</td>\n",
       "      <td>1346</td>\n",
       "      <td>308</td>\n",
       "      <td>210</td>\n",
       "      <td>1256</td>\n",
       "      <td>236</td>\n",
       "      <td>188</td>\n",
       "      <td>361</td>\n",
       "      <td>285</td>\n",
       "      <td>...</td>\n",
       "      <td>Combat Support</td>\n",
       "      <td>92F</td>\n",
       "      <td>Texas</td>\n",
       "      <td>3</td>\n",
       "      <td>Mexican</td>\n",
       "      <td>3</td>\n",
       "      <td>27</td>\n",
       "      <td>66</td>\n",
       "      <td>132</td>\n",
       "      <td>Right hand</td>\n",
       "    </tr>\n",
       "  </tbody>\n",
       "</table>\n",
       "<p>6068 rows × 108 columns</p>\n",
       "</div>"
      ],
      "text/plain": [
       "      subjectid  abdominalextensiondepthsitting  acromialheight  \\\n",
       "0         10027                             266            1467   \n",
       "1         10032                             233            1395   \n",
       "2         10033                             287            1430   \n",
       "3         10092                             234            1347   \n",
       "4         10093                             250            1585   \n",
       "...         ...                             ...             ...   \n",
       "6063      29501                             285            1392   \n",
       "6064      29502                             262            1324   \n",
       "6065      29503                             260            1334   \n",
       "6066      29511                             205            1293   \n",
       "6067     920103                             238            1346   \n",
       "\n",
       "      acromionradialelength  anklecircumference  axillaheight  \\\n",
       "0                       337                 222          1347   \n",
       "1                       326                 220          1293   \n",
       "2                       341                 230          1327   \n",
       "3                       310                 230          1239   \n",
       "4                       372                 247          1478   \n",
       "...                     ...                 ...           ...   \n",
       "6063                    335                 223          1297   \n",
       "6064                    301                 202          1204   \n",
       "6065                    318                 213          1259   \n",
       "6066                    302                 199          1207   \n",
       "6067                    308                 210          1256   \n",
       "\n",
       "      balloffootcircumference  balloffootlength  biacromialbreadth  \\\n",
       "0                         253               202                401   \n",
       "1                         245               193                394   \n",
       "2                         256               196                427   \n",
       "3                         262               199                401   \n",
       "4                         267               224                435   \n",
       "...                       ...               ...                ...   \n",
       "6063                      252               196                368   \n",
       "6064                      236               181                378   \n",
       "6065                      234               183                363   \n",
       "6066                      213               163                376   \n",
       "6067                      236               188                361   \n",
       "\n",
       "      bicepscircumferenceflexed  ...                  Branch  PrimaryMOS  \\\n",
       "0                           369  ...             Combat Arms         19D   \n",
       "1                           338  ...          Combat Support         68W   \n",
       "2                           408  ...          Combat Support         68W   \n",
       "3                           359  ...  Combat Service Support         88M   \n",
       "4                           356  ...  Combat Service Support         92G   \n",
       "...                         ...  ...                     ...         ...   \n",
       "6063                        299  ...          Combat Support         42A   \n",
       "6064                        294  ...          Combat Support         25U   \n",
       "6065                        332  ...          Combat Support         42A   \n",
       "6066                        276  ...          Combat Support         92Y   \n",
       "6067                        285  ...          Combat Support         92F   \n",
       "\n",
       "      SubjectsBirthLocation  SubjectNumericRace  Ethnicity  DODRace  Age  \\\n",
       "0              North Dakota                   1        NaN        1   41   \n",
       "1                  New York                   1        NaN        1   35   \n",
       "2                  New York                   2        NaN        2   42   \n",
       "3                 Wisconsin                   1        NaN        1   31   \n",
       "4            North Carolina                   2        NaN        2   21   \n",
       "...                     ...                 ...        ...      ...  ...   \n",
       "6063                  Texas                   3    Mexican        3   51   \n",
       "6064                  Texas                   3    Mexican        3   40   \n",
       "6065                  Texas                   2        NaN        2   40   \n",
       "6066                  Texas                   3    Mexican        3   31   \n",
       "6067                  Texas                   3    Mexican        3   27   \n",
       "\n",
       "      Heightin  Weightlbs  WritingPreference  \n",
       "0           71        180         Right hand  \n",
       "1           68        160          Left hand  \n",
       "2           68        205          Left hand  \n",
       "3           66        175         Right hand  \n",
       "4           77        213         Right hand  \n",
       "...        ...        ...                ...  \n",
       "6063        67        180         Right hand  \n",
       "6064        63        150         Right hand  \n",
       "6065        66        168         Right hand  \n",
       "6066        63        133         Right hand  \n",
       "6067        66        132         Right hand  \n",
       "\n",
       "[6068 rows x 108 columns]"
      ]
     },
     "execution_count": 4,
     "metadata": {},
     "output_type": "execute_result"
    }
   ],
   "source": [
    "df = pd.concat([df_m, df_f], axis=0).reset_index(drop=True)\n",
    "df"
   ]
  },
  {
   "cell_type": "code",
   "execution_count": 5,
   "metadata": {},
   "outputs": [
    {
     "data": {
      "text/plain": [
       "4647"
      ]
     },
     "execution_count": 5,
     "metadata": {},
     "output_type": "execute_result"
    }
   ],
   "source": [
    "df.isnull().sum().sum()"
   ]
  },
  {
   "cell_type": "code",
   "execution_count": 6,
   "metadata": {},
   "outputs": [
    {
     "name": "stdout",
     "output_type": "stream",
     "text": [
      "Male      4082\n",
      "Female    1986\n",
      "Name: Gender, dtype: int64 sep=\n",
      "\n",
      "27-Feb-12    45\n",
      "5-Apr-12     44\n",
      "21-Feb-12    43\n",
      "28-Feb-12    43\n",
      "5-Mar-12     43\n",
      "             ..\n",
      "11-Feb-11     3\n",
      "25-May-11     2\n",
      "7-Apr-11      2\n",
      "7-Sep-11      1\n",
      "16-Nov-10     1\n",
      "Name: Date, Length: 253, dtype: int64 sep=\n",
      "\n",
      "Camp Shelby       1160\n",
      "Fort Bliss         963\n",
      "Fort Gordon        669\n",
      "Fort McCoy         452\n",
      "Camp Atterbury     441\n",
      "Fort Hood          439\n",
      "Fort Huachuca      436\n",
      "Fort Bragg         397\n",
      "Fort Drum          391\n",
      "Fort Lee           380\n",
      "Fort Stewart       339\n",
      "Fort Rucker          1\n",
      "Name: Installation, dtype: int64 sep=\n",
      "\n",
      "Regular Army           3140\n",
      "Army National Guard    2708\n",
      "Army Reserve            220\n",
      "Name: Component, dtype: int64 sep=\n",
      "\n",
      "Combat Service Support    3174\n",
      "Combat Arms               1582\n",
      "Combat Support            1312\n",
      "Name: Branch, dtype: int64 sep=\n",
      "\n",
      "11B     671\n",
      "88M     320\n",
      "92A     288\n",
      "91B     230\n",
      "68W     222\n",
      "       ... \n",
      "15D       1\n",
      "25G       1\n",
      "915E      1\n",
      "19B       1\n",
      "76B       1\n",
      "Name: PrimaryMOS, Length: 285, dtype: int64 sep=\n",
      "\n",
      "California       446\n",
      "New York         420\n",
      "Texas            397\n",
      "Indiana          266\n",
      "Oklahoma         221\n",
      "                ... \n",
      "Ivory Coast        1\n",
      "Belarus            1\n",
      "New Zealand        1\n",
      "South America      1\n",
      "Denmark            1\n",
      "Name: SubjectsBirthLocation, Length: 152, dtype: int64 sep=\n",
      "\n",
      "Mexican                                      357\n",
      "Puerto Rican                                 183\n",
      "Caribbean Islander                           124\n",
      "Filipino                                      67\n",
      "Cherokee                                      65\n",
      "                                            ... \n",
      "Costa Rican Cuban                              1\n",
      "Blackfoot Caribbean Islander Puerto Rican      1\n",
      "Cuban Unreadable Native American Tribe         1\n",
      "Ute                                            1\n",
      "Apache Blackfoot Cherokee Crow                 1\n",
      "Name: Ethnicity, Length: 209, dtype: int64 sep=\n",
      "\n",
      "Right hand                     5350\n",
      "Left hand                       656\n",
      "Either hand (No preference)      62\n",
      "Name: WritingPreference, dtype: int64 sep=\n",
      "\n"
     ]
    }
   ],
   "source": [
    "for features in df.columns:\n",
    "    if df[features].dtype == 'object':\n",
    "        print(df[features].value_counts(), 'sep=\\n')"
   ]
  },
  {
   "cell_type": "code",
   "execution_count": 7,
   "metadata": {},
   "outputs": [
    {
     "name": "stdout",
     "output_type": "stream",
     "text": [
      "<class 'pandas.core.frame.DataFrame'>\n",
      "RangeIndex: 6068 entries, 0 to 6067\n",
      "Data columns (total 108 columns):\n",
      " #    Column                          Dtype \n",
      "---   ------                          ----- \n",
      " 0    subjectid                       int64 \n",
      " 1    abdominalextensiondepthsitting  int64 \n",
      " 2    acromialheight                  int64 \n",
      " 3    acromionradialelength           int64 \n",
      " 4    anklecircumference              int64 \n",
      " 5    axillaheight                    int64 \n",
      " 6    balloffootcircumference         int64 \n",
      " 7    balloffootlength                int64 \n",
      " 8    biacromialbreadth               int64 \n",
      " 9    bicepscircumferenceflexed       int64 \n",
      " 10   bicristalbreadth                int64 \n",
      " 11   bideltoidbreadth                int64 \n",
      " 12   bimalleolarbreadth              int64 \n",
      " 13   bitragionchinarc                int64 \n",
      " 14   bitragionsubmandibulararc       int64 \n",
      " 15   bizygomaticbreadth              int64 \n",
      " 16   buttockcircumference            int64 \n",
      " 17   buttockdepth                    int64 \n",
      " 18   buttockheight                   int64 \n",
      " 19   buttockkneelength               int64 \n",
      " 20   buttockpopliteallength          int64 \n",
      " 21   calfcircumference               int64 \n",
      " 22   cervicaleheight                 int64 \n",
      " 23   chestbreadth                    int64 \n",
      " 24   chestcircumference              int64 \n",
      " 25   chestdepth                      int64 \n",
      " 26   chestheight                     int64 \n",
      " 27   crotchheight                    int64 \n",
      " 28   crotchlengthomphalion           int64 \n",
      " 29   crotchlengthposterioromphalion  int64 \n",
      " 30   earbreadth                      int64 \n",
      " 31   earlength                       int64 \n",
      " 32   earprotrusion                   int64 \n",
      " 33   elbowrestheight                 int64 \n",
      " 34   eyeheightsitting                int64 \n",
      " 35   footbreadthhorizontal           int64 \n",
      " 36   footlength                      int64 \n",
      " 37   forearmcenterofgriplength       int64 \n",
      " 38   forearmcircumferenceflexed      int64 \n",
      " 39   forearmforearmbreadth           int64 \n",
      " 40   forearmhandlength               int64 \n",
      " 41   functionalleglength             int64 \n",
      " 42   handbreadth                     int64 \n",
      " 43   handcircumference               int64 \n",
      " 44   handlength                      int64 \n",
      " 45   headbreadth                     int64 \n",
      " 46   headcircumference               int64 \n",
      " 47   headlength                      int64 \n",
      " 48   heelanklecircumference          int64 \n",
      " 49   heelbreadth                     int64 \n",
      " 50   hipbreadth                      int64 \n",
      " 51   hipbreadthsitting               int64 \n",
      " 52   iliocristaleheight              int64 \n",
      " 53   interpupillarybreadth           int64 \n",
      " 54   interscyei                      int64 \n",
      " 55   interscyeii                     int64 \n",
      " 56   kneeheightmidpatella            int64 \n",
      " 57   kneeheightsitting               int64 \n",
      " 58   lateralfemoralepicondyleheight  int64 \n",
      " 59   lateralmalleolusheight          int64 \n",
      " 60   lowerthighcircumference         int64 \n",
      " 61   mentonsellionlength             int64 \n",
      " 62   neckcircumference               int64 \n",
      " 63   neckcircumferencebase           int64 \n",
      " 64   overheadfingertipreachsitting   int64 \n",
      " 65   palmlength                      int64 \n",
      " 66   poplitealheight                 int64 \n",
      " 67   radialestylionlength            int64 \n",
      " 68   shouldercircumference           int64 \n",
      " 69   shoulderelbowlength             int64 \n",
      " 70   shoulderlength                  int64 \n",
      " 71   sittingheight                   int64 \n",
      " 72   sleevelengthspinewrist          int64 \n",
      " 73   sleeveoutseam                   int64 \n",
      " 74   span                            int64 \n",
      " 75   stature                         int64 \n",
      " 76   suprasternaleheight             int64 \n",
      " 77   tenthribheight                  int64 \n",
      " 78   thighcircumference              int64 \n",
      " 79   thighclearance                  int64 \n",
      " 80   thumbtipreach                   int64 \n",
      " 81   tibialheight                    int64 \n",
      " 82   tragiontopofhead                int64 \n",
      " 83   trochanterionheight             int64 \n",
      " 84   verticaltrunkcircumferenceusa   int64 \n",
      " 85   waistbacklength                 int64 \n",
      " 86   waistbreadth                    int64 \n",
      " 87   waistcircumference              int64 \n",
      " 88   waistdepth                      int64 \n",
      " 89   waistfrontlengthsitting         int64 \n",
      " 90   waistheightomphalion            int64 \n",
      " 91   weightkg                        int64 \n",
      " 92   wristcircumference              int64 \n",
      " 93   wristheight                     int64 \n",
      " 94   Gender                          object\n",
      " 95   Date                            object\n",
      " 96   Installation                    object\n",
      " 97   Component                       object\n",
      " 98   Branch                          object\n",
      " 99   PrimaryMOS                      object\n",
      " 100  SubjectsBirthLocation           object\n",
      " 101  SubjectNumericRace              int64 \n",
      " 102  Ethnicity                       object\n",
      " 103  DODRace                         int64 \n",
      " 104  Age                             int64 \n",
      " 105  Heightin                        int64 \n",
      " 106  Weightlbs                       int64 \n",
      " 107  WritingPreference               object\n",
      "dtypes: int64(99), object(9)\n",
      "memory usage: 5.0+ MB\n"
     ]
    }
   ],
   "source": [
    "df.info(verbose=True)"
   ]
  },
  {
   "cell_type": "code",
   "execution_count": 8,
   "metadata": {},
   "outputs": [
    {
     "name": "stdout",
     "output_type": "stream",
     "text": [
      "subjectid -------- 0\n",
      "abdominalextensiondepthsitting -------- 0\n",
      "acromialheight -------- 0\n",
      "acromionradialelength -------- 0\n",
      "anklecircumference -------- 0\n",
      "axillaheight -------- 0\n",
      "balloffootcircumference -------- 0\n",
      "balloffootlength -------- 0\n",
      "biacromialbreadth -------- 0\n",
      "bicepscircumferenceflexed -------- 0\n",
      "bicristalbreadth -------- 0\n",
      "bideltoidbreadth -------- 0\n",
      "bimalleolarbreadth -------- 0\n",
      "bitragionchinarc -------- 0\n",
      "bitragionsubmandibulararc -------- 0\n",
      "bizygomaticbreadth -------- 0\n",
      "buttockcircumference -------- 0\n",
      "buttockdepth -------- 0\n",
      "buttockheight -------- 0\n",
      "buttockkneelength -------- 0\n",
      "buttockpopliteallength -------- 0\n",
      "calfcircumference -------- 0\n",
      "cervicaleheight -------- 0\n",
      "chestbreadth -------- 0\n",
      "chestcircumference -------- 0\n",
      "chestdepth -------- 0\n",
      "chestheight -------- 0\n",
      "crotchheight -------- 0\n",
      "crotchlengthomphalion -------- 0\n",
      "crotchlengthposterioromphalion -------- 0\n",
      "earbreadth -------- 0\n",
      "earlength -------- 0\n",
      "earprotrusion -------- 0\n",
      "elbowrestheight -------- 0\n",
      "eyeheightsitting -------- 0\n",
      "footbreadthhorizontal -------- 0\n",
      "footlength -------- 0\n",
      "forearmcenterofgriplength -------- 0\n",
      "forearmcircumferenceflexed -------- 0\n",
      "forearmforearmbreadth -------- 0\n",
      "forearmhandlength -------- 0\n",
      "functionalleglength -------- 0\n",
      "handbreadth -------- 0\n",
      "handcircumference -------- 0\n",
      "handlength -------- 0\n",
      "headbreadth -------- 0\n",
      "headcircumference -------- 0\n",
      "headlength -------- 0\n",
      "heelanklecircumference -------- 0\n",
      "heelbreadth -------- 0\n",
      "hipbreadth -------- 0\n",
      "hipbreadthsitting -------- 0\n",
      "iliocristaleheight -------- 0\n",
      "interpupillarybreadth -------- 0\n",
      "interscyei -------- 0\n",
      "interscyeii -------- 0\n",
      "kneeheightmidpatella -------- 0\n",
      "kneeheightsitting -------- 0\n",
      "lateralfemoralepicondyleheight -------- 0\n",
      "lateralmalleolusheight -------- 0\n",
      "lowerthighcircumference -------- 0\n",
      "mentonsellionlength -------- 0\n",
      "neckcircumference -------- 0\n",
      "neckcircumferencebase -------- 0\n",
      "overheadfingertipreachsitting -------- 0\n",
      "palmlength -------- 0\n",
      "poplitealheight -------- 0\n",
      "radialestylionlength -------- 0\n",
      "shouldercircumference -------- 0\n",
      "shoulderelbowlength -------- 0\n",
      "shoulderlength -------- 0\n",
      "sittingheight -------- 0\n",
      "sleevelengthspinewrist -------- 0\n",
      "sleeveoutseam -------- 0\n",
      "span -------- 0\n",
      "stature -------- 0\n",
      "suprasternaleheight -------- 0\n",
      "tenthribheight -------- 0\n",
      "thighcircumference -------- 0\n",
      "thighclearance -------- 0\n",
      "thumbtipreach -------- 0\n",
      "tibialheight -------- 0\n",
      "tragiontopofhead -------- 0\n",
      "trochanterionheight -------- 0\n",
      "verticaltrunkcircumferenceusa -------- 0\n",
      "waistbacklength -------- 0\n",
      "waistbreadth -------- 0\n",
      "waistcircumference -------- 0\n",
      "waistdepth -------- 0\n",
      "waistfrontlengthsitting -------- 0\n",
      "waistheightomphalion -------- 0\n",
      "weightkg -------- 0\n",
      "wristcircumference -------- 0\n",
      "wristheight -------- 0\n",
      "Gender -------- 0\n",
      "Date -------- 0\n",
      "Installation -------- 0\n",
      "Component -------- 0\n",
      "Branch -------- 0\n",
      "PrimaryMOS -------- 0\n",
      "SubjectsBirthLocation -------- 0\n",
      "SubjectNumericRace -------- 0\n",
      "Ethnicity -------- 4647\n",
      "DODRace -------- 0\n",
      "Age -------- 0\n",
      "Heightin -------- 0\n",
      "Weightlbs -------- 0\n",
      "WritingPreference -------- 0\n"
     ]
    }
   ],
   "source": [
    "for i in df.columns:\n",
    "    print(i, '--------', df[i].isnull().sum() )"
   ]
  },
  {
   "cell_type": "code",
   "execution_count": 9,
   "metadata": {},
   "outputs": [
    {
     "data": {
      "text/plain": [
       "1    3792\n",
       "2    1298\n",
       "3     679\n",
       "4     188\n",
       "6      59\n",
       "5      49\n",
       "8       3\n",
       "Name: DODRace, dtype: int64"
      ]
     },
     "execution_count": 9,
     "metadata": {},
     "output_type": "execute_result"
    }
   ],
   "source": [
    "df.DODRace.value_counts()\n",
    "\n",
    "# This will be my target feature. But i feel some problem of it being unbalanced. So at first step i will use the feature\n",
    "# as it is but later i should see the scores by pruning its last three values (5, 6 and 8)"
   ]
  },
  {
   "cell_type": "code",
   "execution_count": 10,
   "metadata": {},
   "outputs": [
    {
     "data": {
      "image/png": "[encoded data removed]",
      "text/plain": [
       "<Figure size 432x288 with 1 Axes>"
      ]
     },
     "metadata": {
      "needs_background": "light"
     },
     "output_type": "display_data"
    }
   ],
   "source": [
    "ax = sns.countplot(data = df, x ='DODRace')\n",
    "ax.bar_label(ax.containers[0]);"
   ]
  },
  {
   "cell_type": "code",
   "execution_count": 11,
   "metadata": {},
   "outputs": [],
   "source": [
    "# a= df[df.DODRace <5]\n",
    "# a.DODRace.value_counts()"
   ]
  },
  {
   "cell_type": "code",
   "execution_count": 12,
   "metadata": {},
   "outputs": [
    {
     "data": {
      "text/plain": [
       "['Gender',\n",
       " 'Date',\n",
       " 'Installation',\n",
       " 'Component',\n",
       " 'Branch',\n",
       " 'PrimaryMOS',\n",
       " 'SubjectsBirthLocation',\n",
       " 'Ethnicity',\n",
       " 'WritingPreference']"
      ]
     },
     "execution_count": 12,
     "metadata": {},
     "output_type": "execute_result"
    }
   ],
   "source": [
    "cat_feat = []\n",
    "for features in df.columns:\n",
    "    if df[features].dtype == 'object':\n",
    "        cat_feat.append(features)\n",
    "        \n",
    "cat_feat"
   ]
  },
  {
   "cell_type": "code",
   "execution_count": 13,
   "metadata": {},
   "outputs": [
    {
     "data": {
      "text/plain": [
       "(6068, 108)"
      ]
     },
     "execution_count": 13,
     "metadata": {},
     "output_type": "execute_result"
    }
   ],
   "source": [
    "df.shape"
   ]
  },
  {
   "cell_type": "code",
   "execution_count": 14,
   "metadata": {},
   "outputs": [
    {
     "data": {
      "text/plain": [
       "(6068, 107)"
      ]
     },
     "execution_count": 14,
     "metadata": {},
     "output_type": "execute_result"
    }
   ],
   "source": [
    "df.drop('Ethnicity', axis=1, inplace=True)\n",
    "df.shape\n",
    "\n",
    "# I dropped this feature due to majority of missing values"
   ]
  },
  {
   "cell_type": "code",
   "execution_count": 15,
   "metadata": {},
   "outputs": [
    {
     "data": {
      "text/plain": [
       "0"
      ]
     },
     "execution_count": 15,
     "metadata": {},
     "output_type": "execute_result"
    }
   ],
   "source": [
    "df.isnull().sum().sum()"
   ]
  },
  {
   "cell_type": "code",
   "execution_count": 16,
   "metadata": {},
   "outputs": [],
   "source": [
    "df.drop(['subjectid', 'SubjectsBirthLocation', 'SubjectNumericRace', 'Heightin', 'Weightlbs', 'Date'], \n",
    "        axis = 1, inplace=True)\n",
    "\n",
    "# I assessed these features have no significant effect on dependent variable\n",
    "# At this stage I preffered not to drop the features Writing Preference, Installation, Component, Branch and PrimaryMOS\n",
    "# But It might be better to see the scores without these features, so i will try it later..."
   ]
  },
  {
   "cell_type": "code",
   "execution_count": 17,
   "metadata": {},
   "outputs": [],
   "source": [
    "df.drop(['Installation', 'PrimaryMOS'], \n",
    "        axis = 1, inplace=True)"
   ]
  },
  {
   "cell_type": "code",
   "execution_count": 18,
   "metadata": {},
   "outputs": [
    {
     "data": {
      "text/plain": [
       "(6068, 99)"
      ]
     },
     "execution_count": 18,
     "metadata": {},
     "output_type": "execute_result"
    }
   ],
   "source": [
    "df.shape"
   ]
  },
  {
   "cell_type": "code",
   "execution_count": 19,
   "metadata": {},
   "outputs": [
    {
     "data": {
      "text/html": [
       "<div>\n",
       "<style scoped>\n",
       "    .dataframe tbody tr th:only-of-type {\n",
       "        vertical-align: middle;\n",
       "    }\n",
       "\n",
       "    .dataframe tbody tr th {\n",
       "        vertical-align: top;\n",
       "    }\n",
       "\n",
       "    .dataframe thead th {\n",
       "        text-align: right;\n",
       "    }\n",
       "</style>\n",
       "<table border=\"1\" class=\"dataframe\">\n",
       "  <thead>\n",
       "    <tr style=\"text-align: right;\">\n",
       "      <th></th>\n",
       "      <th>abdominalextensiondepthsitting</th>\n",
       "      <th>acromialheight</th>\n",
       "      <th>acromionradialelength</th>\n",
       "      <th>anklecircumference</th>\n",
       "      <th>axillaheight</th>\n",
       "      <th>balloffootcircumference</th>\n",
       "      <th>balloffootlength</th>\n",
       "      <th>biacromialbreadth</th>\n",
       "      <th>bicepscircumferenceflexed</th>\n",
       "      <th>bicristalbreadth</th>\n",
       "      <th>...</th>\n",
       "      <th>waistbreadth</th>\n",
       "      <th>waistcircumference</th>\n",
       "      <th>waistdepth</th>\n",
       "      <th>waistfrontlengthsitting</th>\n",
       "      <th>waistheightomphalion</th>\n",
       "      <th>weightkg</th>\n",
       "      <th>wristcircumference</th>\n",
       "      <th>wristheight</th>\n",
       "      <th>DODRace</th>\n",
       "      <th>Age</th>\n",
       "    </tr>\n",
       "  </thead>\n",
       "  <tbody>\n",
       "    <tr>\n",
       "      <th>abdominalextensiondepthsitting</th>\n",
       "      <td>1.000000</td>\n",
       "      <td>0.360623</td>\n",
       "      <td>0.321755</td>\n",
       "      <td>0.524747</td>\n",
       "      <td>0.290821</td>\n",
       "      <td>0.459174</td>\n",
       "      <td>0.342050</td>\n",
       "      <td>0.421544</td>\n",
       "      <td>0.691460</td>\n",
       "      <td>0.506497</td>\n",
       "      <td>...</td>\n",
       "      <td>0.859924</td>\n",
       "      <td>0.939899</td>\n",
       "      <td>0.958932</td>\n",
       "      <td>0.579296</td>\n",
       "      <td>0.162457</td>\n",
       "      <td>0.825714</td>\n",
       "      <td>0.550544</td>\n",
       "      <td>0.389220</td>\n",
       "      <td>-0.079167</td>\n",
       "      <td>0.380614</td>\n",
       "    </tr>\n",
       "    <tr>\n",
       "      <th>acromialheight</th>\n",
       "      <td>0.360623</td>\n",
       "      <td>1.000000</td>\n",
       "      <td>0.872475</td>\n",
       "      <td>0.512417</td>\n",
       "      <td>0.987452</td>\n",
       "      <td>0.693403</td>\n",
       "      <td>0.802922</td>\n",
       "      <td>0.735565</td>\n",
       "      <td>0.529353</td>\n",
       "      <td>0.409043</td>\n",
       "      <td>...</td>\n",
       "      <td>0.446707</td>\n",
       "      <td>0.413142</td>\n",
       "      <td>0.371948</td>\n",
       "      <td>0.604967</td>\n",
       "      <td>0.933248</td>\n",
       "      <td>0.684610</td>\n",
       "      <td>0.734622</td>\n",
       "      <td>0.922687</td>\n",
       "      <td>-0.235121</td>\n",
       "      <td>0.078582</td>\n",
       "    </tr>\n",
       "    <tr>\n",
       "      <th>acromionradialelength</th>\n",
       "      <td>0.321755</td>\n",
       "      <td>0.872475</td>\n",
       "      <td>1.000000</td>\n",
       "      <td>0.424626</td>\n",
       "      <td>0.862074</td>\n",
       "      <td>0.605970</td>\n",
       "      <td>0.734323</td>\n",
       "      <td>0.672158</td>\n",
       "      <td>0.461094</td>\n",
       "      <td>0.351546</td>\n",
       "      <td>...</td>\n",
       "      <td>0.384245</td>\n",
       "      <td>0.364133</td>\n",
       "      <td>0.338024</td>\n",
       "      <td>0.481149</td>\n",
       "      <td>0.851464</td>\n",
       "      <td>0.603964</td>\n",
       "      <td>0.646149</td>\n",
       "      <td>0.684979</td>\n",
       "      <td>-0.201095</td>\n",
       "      <td>0.076888</td>\n",
       "    </tr>\n",
       "    <tr>\n",
       "      <th>anklecircumference</th>\n",
       "      <td>0.524747</td>\n",
       "      <td>0.512417</td>\n",
       "      <td>0.424626</td>\n",
       "      <td>1.000000</td>\n",
       "      <td>0.469964</td>\n",
       "      <td>0.711720</td>\n",
       "      <td>0.569457</td>\n",
       "      <td>0.541868</td>\n",
       "      <td>0.643211</td>\n",
       "      <td>0.453308</td>\n",
       "      <td>...</td>\n",
       "      <td>0.589723</td>\n",
       "      <td>0.569306</td>\n",
       "      <td>0.517324</td>\n",
       "      <td>0.479788</td>\n",
       "      <td>0.420109</td>\n",
       "      <td>0.745950</td>\n",
       "      <td>0.702178</td>\n",
       "      <td>0.514394</td>\n",
       "      <td>-0.158360</td>\n",
       "      <td>-0.025016</td>\n",
       "    </tr>\n",
       "    <tr>\n",
       "      <th>axillaheight</th>\n",
       "      <td>0.290821</td>\n",
       "      <td>0.987452</td>\n",
       "      <td>0.862074</td>\n",
       "      <td>0.469964</td>\n",
       "      <td>1.000000</td>\n",
       "      <td>0.657168</td>\n",
       "      <td>0.790214</td>\n",
       "      <td>0.707868</td>\n",
       "      <td>0.465773</td>\n",
       "      <td>0.369885</td>\n",
       "      <td>...</td>\n",
       "      <td>0.372178</td>\n",
       "      <td>0.337927</td>\n",
       "      <td>0.301106</td>\n",
       "      <td>0.565922</td>\n",
       "      <td>0.948190</td>\n",
       "      <td>0.621812</td>\n",
       "      <td>0.687252</td>\n",
       "      <td>0.905063</td>\n",
       "      <td>-0.229070</td>\n",
       "      <td>0.040748</td>\n",
       "    </tr>\n",
       "    <tr>\n",
       "      <th>...</th>\n",
       "      <td>...</td>\n",
       "      <td>...</td>\n",
       "      <td>...</td>\n",
       "      <td>...</td>\n",
       "      <td>...</td>\n",
       "      <td>...</td>\n",
       "      <td>...</td>\n",
       "      <td>...</td>\n",
       "      <td>...</td>\n",
       "      <td>...</td>\n",
       "      <td>...</td>\n",
       "      <td>...</td>\n",
       "      <td>...</td>\n",
       "      <td>...</td>\n",
       "      <td>...</td>\n",
       "      <td>...</td>\n",
       "      <td>...</td>\n",
       "      <td>...</td>\n",
       "      <td>...</td>\n",
       "      <td>...</td>\n",
       "      <td>...</td>\n",
       "    </tr>\n",
       "    <tr>\n",
       "      <th>weightkg</th>\n",
       "      <td>0.825714</td>\n",
       "      <td>0.684610</td>\n",
       "      <td>0.603964</td>\n",
       "      <td>0.745950</td>\n",
       "      <td>0.621812</td>\n",
       "      <td>0.731982</td>\n",
       "      <td>0.653566</td>\n",
       "      <td>0.707292</td>\n",
       "      <td>0.875688</td>\n",
       "      <td>0.582281</td>\n",
       "      <td>...</td>\n",
       "      <td>0.859654</td>\n",
       "      <td>0.872724</td>\n",
       "      <td>0.832213</td>\n",
       "      <td>0.677454</td>\n",
       "      <td>0.532079</td>\n",
       "      <td>1.000000</td>\n",
       "      <td>0.801215</td>\n",
       "      <td>0.671151</td>\n",
       "      <td>-0.133350</td>\n",
       "      <td>0.228096</td>\n",
       "    </tr>\n",
       "    <tr>\n",
       "      <th>wristcircumference</th>\n",
       "      <td>0.550544</td>\n",
       "      <td>0.734622</td>\n",
       "      <td>0.646149</td>\n",
       "      <td>0.702178</td>\n",
       "      <td>0.687252</td>\n",
       "      <td>0.826903</td>\n",
       "      <td>0.745770</td>\n",
       "      <td>0.803476</td>\n",
       "      <td>0.765347</td>\n",
       "      <td>0.350715</td>\n",
       "      <td>...</td>\n",
       "      <td>0.581908</td>\n",
       "      <td>0.579536</td>\n",
       "      <td>0.557457</td>\n",
       "      <td>0.614334</td>\n",
       "      <td>0.637957</td>\n",
       "      <td>0.801215</td>\n",
       "      <td>1.000000</td>\n",
       "      <td>0.663991</td>\n",
       "      <td>-0.181502</td>\n",
       "      <td>0.148806</td>\n",
       "    </tr>\n",
       "    <tr>\n",
       "      <th>wristheight</th>\n",
       "      <td>0.389220</td>\n",
       "      <td>0.922687</td>\n",
       "      <td>0.684979</td>\n",
       "      <td>0.514394</td>\n",
       "      <td>0.905063</td>\n",
       "      <td>0.628475</td>\n",
       "      <td>0.689499</td>\n",
       "      <td>0.624097</td>\n",
       "      <td>0.505623</td>\n",
       "      <td>0.465766</td>\n",
       "      <td>...</td>\n",
       "      <td>0.484488</td>\n",
       "      <td>0.446004</td>\n",
       "      <td>0.396134</td>\n",
       "      <td>0.615569</td>\n",
       "      <td>0.817358</td>\n",
       "      <td>0.671151</td>\n",
       "      <td>0.663991</td>\n",
       "      <td>1.000000</td>\n",
       "      <td>-0.257819</td>\n",
       "      <td>0.105944</td>\n",
       "    </tr>\n",
       "    <tr>\n",
       "      <th>DODRace</th>\n",
       "      <td>-0.079167</td>\n",
       "      <td>-0.235121</td>\n",
       "      <td>-0.201095</td>\n",
       "      <td>-0.158360</td>\n",
       "      <td>-0.229070</td>\n",
       "      <td>-0.108116</td>\n",
       "      <td>-0.113672</td>\n",
       "      <td>-0.124767</td>\n",
       "      <td>-0.066587</td>\n",
       "      <td>-0.157624</td>\n",
       "      <td>...</td>\n",
       "      <td>-0.132314</td>\n",
       "      <td>-0.103039</td>\n",
       "      <td>-0.082569</td>\n",
       "      <td>-0.140695</td>\n",
       "      <td>-0.212210</td>\n",
       "      <td>-0.133350</td>\n",
       "      <td>-0.181502</td>\n",
       "      <td>-0.257819</td>\n",
       "      <td>1.000000</td>\n",
       "      <td>0.004738</td>\n",
       "    </tr>\n",
       "    <tr>\n",
       "      <th>Age</th>\n",
       "      <td>0.380614</td>\n",
       "      <td>0.078582</td>\n",
       "      <td>0.076888</td>\n",
       "      <td>-0.025016</td>\n",
       "      <td>0.040748</td>\n",
       "      <td>0.077855</td>\n",
       "      <td>0.030007</td>\n",
       "      <td>0.068712</td>\n",
       "      <td>0.217227</td>\n",
       "      <td>0.134053</td>\n",
       "      <td>...</td>\n",
       "      <td>0.285112</td>\n",
       "      <td>0.361972</td>\n",
       "      <td>0.389865</td>\n",
       "      <td>0.262505</td>\n",
       "      <td>-0.030264</td>\n",
       "      <td>0.228096</td>\n",
       "      <td>0.148806</td>\n",
       "      <td>0.105944</td>\n",
       "      <td>0.004738</td>\n",
       "      <td>1.000000</td>\n",
       "    </tr>\n",
       "  </tbody>\n",
       "</table>\n",
       "<p>95 rows × 95 columns</p>\n",
       "</div>"
      ],
      "text/plain": [
       "                                abdominalextensiondepthsitting  \\\n",
       "abdominalextensiondepthsitting                        1.000000   \n",
       "acromialheight                                        0.360623   \n",
       "acromionradialelength                                 0.321755   \n",
       "anklecircumference                                    0.524747   \n",
       "axillaheight                                          0.290821   \n",
       "...                                                        ...   \n",
       "weightkg                                              0.825714   \n",
       "wristcircumference                                    0.550544   \n",
       "wristheight                                           0.389220   \n",
       "DODRace                                              -0.079167   \n",
       "Age                                                   0.380614   \n",
       "\n",
       "                                acromialheight  acromionradialelength  \\\n",
       "abdominalextensiondepthsitting        0.360623               0.321755   \n",
       "acromialheight                        1.000000               0.872475   \n",
       "acromionradialelength                 0.872475               1.000000   \n",
       "anklecircumference                    0.512417               0.424626   \n",
       "axillaheight                          0.987452               0.862074   \n",
       "...                                        ...                    ...   \n",
       "weightkg                              0.684610               0.603964   \n",
       "wristcircumference                    0.734622               0.646149   \n",
       "wristheight                           0.922687               0.684979   \n",
       "DODRace                              -0.235121              -0.201095   \n",
       "Age                                   0.078582               0.076888   \n",
       "\n",
       "                                anklecircumference  axillaheight  \\\n",
       "abdominalextensiondepthsitting            0.524747      0.290821   \n",
       "acromialheight                            0.512417      0.987452   \n",
       "acromionradialelength                     0.424626      0.862074   \n",
       "anklecircumference                        1.000000      0.469964   \n",
       "axillaheight                              0.469964      1.000000   \n",
       "...                                            ...           ...   \n",
       "weightkg                                  0.745950      0.621812   \n",
       "wristcircumference                        0.702178      0.687252   \n",
       "wristheight                               0.514394      0.905063   \n",
       "DODRace                                  -0.158360     -0.229070   \n",
       "Age                                      -0.025016      0.040748   \n",
       "\n",
       "                                balloffootcircumference  balloffootlength  \\\n",
       "abdominalextensiondepthsitting                 0.459174          0.342050   \n",
       "acromialheight                                 0.693403          0.802922   \n",
       "acromionradialelength                          0.605970          0.734323   \n",
       "anklecircumference                             0.711720          0.569457   \n",
       "axillaheight                                   0.657168          0.790214   \n",
       "...                                                 ...               ...   \n",
       "weightkg                                       0.731982          0.653566   \n",
       "wristcircumference                             0.826903          0.745770   \n",
       "wristheight                                    0.628475          0.689499   \n",
       "DODRace                                       -0.108116         -0.113672   \n",
       "Age                                            0.077855          0.030007   \n",
       "\n",
       "                                biacromialbreadth  bicepscircumferenceflexed  \\\n",
       "abdominalextensiondepthsitting           0.421544                   0.691460   \n",
       "acromialheight                           0.735565                   0.529353   \n",
       "acromionradialelength                    0.672158                   0.461094   \n",
       "anklecircumference                       0.541868                   0.643211   \n",
       "axillaheight                             0.707868                   0.465773   \n",
       "...                                           ...                        ...   \n",
       "weightkg                                 0.707292                   0.875688   \n",
       "wristcircumference                       0.803476                   0.765347   \n",
       "wristheight                              0.624097                   0.505623   \n",
       "DODRace                                 -0.124767                  -0.066587   \n",
       "Age                                      0.068712                   0.217227   \n",
       "\n",
       "                                bicristalbreadth  ...  waistbreadth  \\\n",
       "abdominalextensiondepthsitting          0.506497  ...      0.859924   \n",
       "acromialheight                          0.409043  ...      0.446707   \n",
       "acromionradialelength                   0.351546  ...      0.384245   \n",
       "anklecircumference                      0.453308  ...      0.589723   \n",
       "axillaheight                            0.369885  ...      0.372178   \n",
       "...                                          ...  ...           ...   \n",
       "weightkg                                0.582281  ...      0.859654   \n",
       "wristcircumference                      0.350715  ...      0.581908   \n",
       "wristheight                             0.465766  ...      0.484488   \n",
       "DODRace                                -0.157624  ...     -0.132314   \n",
       "Age                                     0.134053  ...      0.285112   \n",
       "\n",
       "                                waistcircumference  waistdepth  \\\n",
       "abdominalextensiondepthsitting            0.939899    0.958932   \n",
       "acromialheight                            0.413142    0.371948   \n",
       "acromionradialelength                     0.364133    0.338024   \n",
       "anklecircumference                        0.569306    0.517324   \n",
       "axillaheight                              0.337927    0.301106   \n",
       "...                                            ...         ...   \n",
       "weightkg                                  0.872724    0.832213   \n",
       "wristcircumference                        0.579536    0.557457   \n",
       "wristheight                               0.446004    0.396134   \n",
       "DODRace                                  -0.103039   -0.082569   \n",
       "Age                                       0.361972    0.389865   \n",
       "\n",
       "                                waistfrontlengthsitting  waistheightomphalion  \\\n",
       "abdominalextensiondepthsitting                 0.579296              0.162457   \n",
       "acromialheight                                 0.604967              0.933248   \n",
       "acromionradialelength                          0.481149              0.851464   \n",
       "anklecircumference                             0.479788              0.420109   \n",
       "axillaheight                                   0.565922              0.948190   \n",
       "...                                                 ...                   ...   \n",
       "weightkg                                       0.677454              0.532079   \n",
       "wristcircumference                             0.614334              0.637957   \n",
       "wristheight                                    0.615569              0.817358   \n",
       "DODRace                                       -0.140695             -0.212210   \n",
       "Age                                            0.262505             -0.030264   \n",
       "\n",
       "                                weightkg  wristcircumference  wristheight  \\\n",
       "abdominalextensiondepthsitting  0.825714            0.550544     0.389220   \n",
       "acromialheight                  0.684610            0.734622     0.922687   \n",
       "acromionradialelength           0.603964            0.646149     0.684979   \n",
       "anklecircumference              0.745950            0.702178     0.514394   \n",
       "axillaheight                    0.621812            0.687252     0.905063   \n",
       "...                                  ...                 ...          ...   \n",
       "weightkg                        1.000000            0.801215     0.671151   \n",
       "wristcircumference              0.801215            1.000000     0.663991   \n",
       "wristheight                     0.671151            0.663991     1.000000   \n",
       "DODRace                        -0.133350           -0.181502    -0.257819   \n",
       "Age                             0.228096            0.148806     0.105944   \n",
       "\n",
       "                                 DODRace       Age  \n",
       "abdominalextensiondepthsitting -0.079167  0.380614  \n",
       "acromialheight                 -0.235121  0.078582  \n",
       "acromionradialelength          -0.201095  0.076888  \n",
       "anklecircumference             -0.158360 -0.025016  \n",
       "axillaheight                   -0.229070  0.040748  \n",
       "...                                  ...       ...  \n",
       "weightkg                       -0.133350  0.228096  \n",
       "wristcircumference             -0.181502  0.148806  \n",
       "wristheight                    -0.257819  0.105944  \n",
       "DODRace                         1.000000  0.004738  \n",
       "Age                             0.004738  1.000000  \n",
       "\n",
       "[95 rows x 95 columns]"
      ]
     },
     "execution_count": 19,
     "metadata": {},
     "output_type": "execute_result"
    }
   ],
   "source": [
    "df.corr()"
   ]
  },
  {
   "cell_type": "code",
   "execution_count": 20,
   "metadata": {},
   "outputs": [
    {
     "data": {
      "text/plain": [
       "['Gender', 'Component', 'Branch', 'WritingPreference']"
      ]
     },
     "execution_count": 20,
     "metadata": {},
     "output_type": "execute_result"
    }
   ],
   "source": [
    "cat_feat = []\n",
    "for features in df.columns:\n",
    "    if df[features].dtype == 'object':\n",
    "        cat_feat.append(features)\n",
    "        \n",
    "cat_feat"
   ]
  },
  {
   "cell_type": "code",
   "execution_count": 21,
   "metadata": {
    "scrolled": true
   },
   "outputs": [
    {
     "name": "stdout",
     "output_type": "stream",
     "text": [
      "Male      4082\n",
      "Female    1986\n",
      "Name: Gender, dtype: int64 sep=\n",
      "\n",
      "Regular Army           3140\n",
      "Army National Guard    2708\n",
      "Army Reserve            220\n",
      "Name: Component, dtype: int64 sep=\n",
      "\n",
      "Combat Service Support    3174\n",
      "Combat Arms               1582\n",
      "Combat Support            1312\n",
      "Name: Branch, dtype: int64 sep=\n",
      "\n",
      "Right hand                     5350\n",
      "Left hand                       656\n",
      "Either hand (No preference)      62\n",
      "Name: WritingPreference, dtype: int64 sep=\n",
      "\n"
     ]
    }
   ],
   "source": [
    "for features in df.columns:\n",
    "    if df[features].dtype == 'object':\n",
    "        print(df[features].value_counts(), 'sep=\\n')"
   ]
  },
  {
   "cell_type": "markdown",
   "metadata": {
    "heading_collapsed": true,
    "hidden": true,
    "id": "TMjCTEG51b67"
   },
   "source": [
    "# DATA Preprocessing\n",
    "- In this step we divide our data to X(Features) and y(Target) then ,\n",
    "- To train and evaluation purposes we create train and test sets,\n",
    "- Lastly, scale our data if features not in same scale. Why?"
   ]
  },
  {
   "cell_type": "code",
   "execution_count": 22,
   "metadata": {},
   "outputs": [],
   "source": [
    "X = df.drop(columns=['DODRace'])\n",
    "y = df.DODRace"
   ]
  },
  {
   "cell_type": "markdown",
   "metadata": {},
   "source": [
    "# Modelling\n",
    "- Fit the model with train dataset\n",
    "- Get predict from vanilla model on both train and test sets to examine if there is over/underfitting   \n",
    "- Apply GridseachCV for both hyperparemeter tuning and sanity test of our model.\n",
    "- Use hyperparameters that you find from gridsearch and make final prediction and evaluate the result according to chosen metric."
   ]
  },
  {
   "cell_type": "markdown",
   "metadata": {},
   "source": [
    "## 1. Logistic model"
   ]
  },
  {
   "cell_type": "markdown",
   "metadata": {},
   "source": [
    "### Vanilla Logistic Model"
   ]
  },
  {
   "cell_type": "code",
   "execution_count": 23,
   "metadata": {},
   "outputs": [],
   "source": [
    "from sklearn.model_selection import train_test_split\n",
    "from sklearn.preprocessing import StandardScaler\n",
    "from sklearn.linear_model import LogisticRegression\n",
    "from sklearn.pipeline import Pipeline\n",
    "from sklearn.compose import make_column_transformer\n",
    "from sklearn.preprocessing import OneHotEncoder, OrdinalEncoder"
   ]
  },
  {
   "cell_type": "code",
   "execution_count": 24,
   "metadata": {},
   "outputs": [],
   "source": [
    "X_train, X_test, y_train, y_test = train_test_split(X, y, test_size = 0.20, stratify = y, random_state = 101)"
   ]
  },
  {
   "cell_type": "code",
   "execution_count": 25,
   "metadata": {},
   "outputs": [
    {
     "data": {
      "text/plain": [
       "['Gender', 'Component', 'Branch', 'WritingPreference']"
      ]
     },
     "execution_count": 25,
     "metadata": {},
     "output_type": "execute_result"
    }
   ],
   "source": [
    "cat = ['Gender', 'Component', 'Branch', 'WritingPreference']\n",
    "cat"
   ]
  },
  {
   "cell_type": "code",
   "execution_count": 26,
   "metadata": {},
   "outputs": [],
   "source": [
    "column_trans = make_column_transformer((OneHotEncoder(handle_unknown=\"ignore\", sparse=False), cat),\n",
    "                                       remainder = 'passthrough')"
   ]
  },
  {
   "cell_type": "code",
   "execution_count": 27,
   "metadata": {},
   "outputs": [],
   "source": [
    "operations = [('column_transfer', column_trans), ('scaler', StandardScaler()), ('logistic', LogisticRegression(random_state=101))]"
   ]
  },
  {
   "cell_type": "code",
   "execution_count": 28,
   "metadata": {},
   "outputs": [],
   "source": [
    "pipe_model = Pipeline(steps=operations)"
   ]
  },
  {
   "cell_type": "code",
   "execution_count": 29,
   "metadata": {},
   "outputs": [
    {
     "data": {
      "text/plain": [
       "Pipeline(steps=[('column_transfer',\n",
       "                 ColumnTransformer(remainder='passthrough',\n",
       "                                   transformers=[('onehotencoder',\n",
       "                                                  OneHotEncoder(handle_unknown='ignore',\n",
       "                                                                sparse=False),\n",
       "                                                  ['Gender', 'Component',\n",
       "                                                   'Branch',\n",
       "                                                   'WritingPreference'])])),\n",
       "                ('scaler', StandardScaler()),\n",
       "                ('logistic', LogisticRegression(random_state=101))])"
      ]
     },
     "execution_count": 29,
     "metadata": {},
     "output_type": "execute_result"
    }
   ],
   "source": [
    "pipe_model.fit(X_train, y_train)"
   ]
  },
  {
   "cell_type": "code",
   "execution_count": 30,
   "metadata": {},
   "outputs": [],
   "source": [
    "from sklearn.metrics import confusion_matrix,classification_report,plot_confusion_matrix"
   ]
  },
  {
   "cell_type": "code",
   "execution_count": 31,
   "metadata": {},
   "outputs": [],
   "source": [
    "def eval_metric(model):\n",
    "    y_train_pred = model.predict(X_train)\n",
    "    y_pred = model.predict(X_test)\n",
    "    \n",
    "    print(\"Test_Set\")\n",
    "    print()\n",
    "    print(confusion_matrix(y_test, y_pred))\n",
    "    print(classification_report(y_test, y_pred))\n",
    "    print()\n",
    "    print(\"Train_Set\")\n",
    "    print()\n",
    "    print(confusion_matrix(y_train, y_train_pred))\n",
    "    print(classification_report(y_train, y_train_pred))"
   ]
  },
  {
   "cell_type": "code",
   "execution_count": 32,
   "metadata": {},
   "outputs": [
    {
     "data": {
      "text/plain": [
       "1    3792\n",
       "2    1298\n",
       "3     679\n",
       "4     188\n",
       "6      59\n",
       "5      49\n",
       "8       3\n",
       "Name: DODRace, dtype: int64"
      ]
     },
     "execution_count": 32,
     "metadata": {},
     "output_type": "execute_result"
    }
   ],
   "source": [
    "df.DODRace.value_counts()\n",
    "\n",
    "# İlk olarak DODRace featureındaki bütün categoriler ile modeli çalıştırıp sonuca bakalım.\n",
    "# Çıkan sonuçlara göre 5, 6 ve 8 nolu kategorileri drop edip tekrar modelin vanilla haliyle sonuçlara bakalım."
   ]
  },
  {
   "cell_type": "code",
   "execution_count": 33,
   "metadata": {},
   "outputs": [
    {
     "name": "stdout",
     "output_type": "stream",
     "text": [
      "Test_Set\n",
      "\n",
      "[[732  11  14   2   0   0]\n",
      " [ 19 237   4   0   0   0]\n",
      " [ 65  18  47   5   0   1]\n",
      " [ 12   3   6  16   0   0]\n",
      " [  7   0   3   0   0   0]\n",
      " [  3   3   2   3   0   1]]\n",
      "              precision    recall  f1-score   support\n",
      "\n",
      "           1       0.87      0.96      0.92       759\n",
      "           2       0.87      0.91      0.89       260\n",
      "           3       0.62      0.35      0.44       136\n",
      "           4       0.62      0.43      0.51        37\n",
      "           5       0.00      0.00      0.00        10\n",
      "           6       0.50      0.08      0.14        12\n",
      "\n",
      "    accuracy                           0.85      1214\n",
      "   macro avg       0.58      0.46      0.48      1214\n",
      "weighted avg       0.83      0.85      0.83      1214\n",
      "\n",
      "\n",
      "Train_Set\n",
      "\n",
      "[[2905   31   85   12    0    0    0]\n",
      " [  54  958   24    2    0    0    0]\n",
      " [ 261   53  213   15    0    1    0]\n",
      " [  38    4   19   88    0    2    0]\n",
      " [  29    4    6    0    0    0    0]\n",
      " [  20    2    7    8    0   10    0]\n",
      " [   1    1    0    0    0    0    1]]\n",
      "              precision    recall  f1-score   support\n",
      "\n",
      "           1       0.88      0.96      0.92      3033\n",
      "           2       0.91      0.92      0.92      1038\n",
      "           3       0.60      0.39      0.47       543\n",
      "           4       0.70      0.58      0.64       151\n",
      "           5       0.00      0.00      0.00        39\n",
      "           6       0.77      0.21      0.33        47\n",
      "           8       1.00      0.33      0.50         3\n",
      "\n",
      "    accuracy                           0.86      4854\n",
      "   macro avg       0.69      0.49      0.54      4854\n",
      "weighted avg       0.84      0.86      0.84      4854\n",
      "\n"
     ]
    }
   ],
   "source": [
    "eval_metric(pipe_model)"
   ]
  },
  {
   "cell_type": "code",
   "execution_count": 34,
   "metadata": {},
   "outputs": [
    {
     "data": {
      "image/png": "[encoded data removed]",
      "text/plain": [
       "<Figure size 432x288 with 2 Axes>"
      ]
     },
     "metadata": {
      "needs_background": "light"
     },
     "output_type": "display_data"
    }
   ],
   "source": [
    "plot_confusion_matrix(pipe_model,X_test,y_test);"
   ]
  },
  {
   "cell_type": "code",
   "execution_count": 35,
   "metadata": {},
   "outputs": [
    {
     "data": {
      "text/plain": [
       "dict_keys(['explained_variance', 'r2', 'max_error', 'neg_median_absolute_error', 'neg_mean_absolute_error', 'neg_mean_absolute_percentage_error', 'neg_mean_squared_error', 'neg_mean_squared_log_error', 'neg_root_mean_squared_error', 'neg_mean_poisson_deviance', 'neg_mean_gamma_deviance', 'accuracy', 'top_k_accuracy', 'roc_auc', 'roc_auc_ovr', 'roc_auc_ovo', 'roc_auc_ovr_weighted', 'roc_auc_ovo_weighted', 'balanced_accuracy', 'average_precision', 'neg_log_loss', 'neg_brier_score', 'adjusted_rand_score', 'rand_score', 'homogeneity_score', 'completeness_score', 'v_measure_score', 'mutual_info_score', 'adjusted_mutual_info_score', 'normalized_mutual_info_score', 'fowlkes_mallows_score', 'precision', 'precision_macro', 'precision_micro', 'precision_samples', 'precision_weighted', 'recall', 'recall_macro', 'recall_micro', 'recall_samples', 'recall_weighted', 'f1', 'f1_macro', 'f1_micro', 'f1_samples', 'f1_weighted', 'jaccard', 'jaccard_macro', 'jaccard_micro', 'jaccard_samples', 'jaccard_weighted'])"
      ]
     },
     "execution_count": 35,
     "metadata": {},
     "output_type": "execute_result"
    }
   ],
   "source": [
    "from sklearn.model_selection import cross_val_score, cross_validate\n",
    "from sklearn.metrics import accuracy_score, f1_score, recall_score, precision_score\n",
    "from sklearn.metrics import SCORERS\n",
    "SCORERS.keys()"
   ]
  },
  {
   "cell_type": "code",
   "execution_count": 36,
   "metadata": {},
   "outputs": [
    {
     "data": {
      "text/plain": [
       "test_f1_weighted     0.818343\n",
       "train_f1_weighted    0.845654\n",
       "dtype: float64"
      ]
     },
     "execution_count": 36,
     "metadata": {},
     "output_type": "execute_result"
    }
   ],
   "source": [
    "operations = [('column_transfer', column_trans), ('scaler', StandardScaler()), ('logistic', LogisticRegression(random_state=101))]\n",
    "model = Pipeline(steps=operations)\n",
    "\n",
    "\n",
    "scores = cross_validate(model, X_train, y_train, scoring = [\"f1_weighted\"], \n",
    "                        cv = 10, return_train_score=True)\n",
    "df_scores = pd.DataFrame(scores, index = range(1, 11)).iloc[:,2:].mean()\n",
    "df_scores"
   ]
  },
  {
   "cell_type": "code",
   "execution_count": 37,
   "metadata": {},
   "outputs": [],
   "source": [
    "# DODRace featurında sample sayısı görece düşük olan üç kategoriyi atıp bütün işlemleri tekrar ederek skorlara bakıyoruz\n",
    "\n",
    "df2 = df[df.DODRace <4].reset_index(drop=True)\n",
    "X= df2.drop(columns=['DODRace'])\n",
    "y = df2.DODRace"
   ]
  },
  {
   "cell_type": "code",
   "execution_count": 38,
   "metadata": {},
   "outputs": [],
   "source": [
    "X_train, X_test, y_train, y_test = train_test_split(X, y, test_size = 0.20, stratify = y, random_state = 101)"
   ]
  },
  {
   "cell_type": "code",
   "execution_count": 39,
   "metadata": {},
   "outputs": [
    {
     "data": {
      "text/plain": [
       "['Gender', 'Component', 'Branch', 'WritingPreference']"
      ]
     },
     "execution_count": 39,
     "metadata": {},
     "output_type": "execute_result"
    }
   ],
   "source": [
    "cat = ['Gender', 'Component', 'Branch', 'WritingPreference']\n",
    "cat"
   ]
  },
  {
   "cell_type": "code",
   "execution_count": 40,
   "metadata": {},
   "outputs": [],
   "source": [
    "column_trans = make_column_transformer((OneHotEncoder(handle_unknown=\"ignore\", sparse=False), cat),\n",
    "                                       remainder = 'passthrough')"
   ]
  },
  {
   "cell_type": "code",
   "execution_count": 41,
   "metadata": {},
   "outputs": [],
   "source": [
    "operations = [('column_transfer', column_trans), ('scaler', StandardScaler()), ('logistic', LogisticRegression(random_state=101))]"
   ]
  },
  {
   "cell_type": "code",
   "execution_count": 42,
   "metadata": {},
   "outputs": [],
   "source": [
    "pipe_model2 = Pipeline(steps=operations)"
   ]
  },
  {
   "cell_type": "code",
   "execution_count": 43,
   "metadata": {},
   "outputs": [
    {
     "data": {
      "text/plain": [
       "Pipeline(steps=[('column_transfer',\n",
       "                 ColumnTransformer(remainder='passthrough',\n",
       "                                   transformers=[('onehotencoder',\n",
       "                                                  OneHotEncoder(handle_unknown='ignore',\n",
       "                                                                sparse=False),\n",
       "                                                  ['Gender', 'Component',\n",
       "                                                   'Branch',\n",
       "                                                   'WritingPreference'])])),\n",
       "                ('scaler', StandardScaler()),\n",
       "                ('logistic', LogisticRegression(random_state=101))])"
      ]
     },
     "execution_count": 43,
     "metadata": {},
     "output_type": "execute_result"
    }
   ],
   "source": [
    "pipe_model2.fit(X_train, y_train)"
   ]
  },
  {
   "cell_type": "code",
   "execution_count": 44,
   "metadata": {},
   "outputs": [
    {
     "name": "stdout",
     "output_type": "stream",
     "text": [
      "Test_Set\n",
      "\n",
      "[[731  14  13]\n",
      " [ 19 237   4]\n",
      " [ 68  19  49]]\n",
      "              precision    recall  f1-score   support\n",
      "\n",
      "           1       0.89      0.96      0.93       758\n",
      "           2       0.88      0.91      0.89       260\n",
      "           3       0.74      0.36      0.49       136\n",
      "\n",
      "    accuracy                           0.88      1154\n",
      "   macro avg       0.84      0.75      0.77      1154\n",
      "weighted avg       0.87      0.88      0.87      1154\n",
      "\n",
      "\n",
      "Train_Set\n",
      "\n",
      "[[2924   27   83]\n",
      " [  56  960   22]\n",
      " [ 266   59  218]]\n",
      "              precision    recall  f1-score   support\n",
      "\n",
      "           1       0.90      0.96      0.93      3034\n",
      "           2       0.92      0.92      0.92      1038\n",
      "           3       0.67      0.40      0.50       543\n",
      "\n",
      "    accuracy                           0.89      4615\n",
      "   macro avg       0.83      0.76      0.79      4615\n",
      "weighted avg       0.88      0.89      0.88      4615\n",
      "\n"
     ]
    }
   ],
   "source": [
    "eval_metric(pipe_model2)"
   ]
  },
  {
   "cell_type": "code",
   "execution_count": 45,
   "metadata": {},
   "outputs": [
    {
     "data": {
      "text/plain": [
       "test_f1_weighted     0.858358\n",
       "train_f1_weighted    0.879209\n",
       "dtype: float64"
      ]
     },
     "execution_count": 45,
     "metadata": {},
     "output_type": "execute_result"
    }
   ],
   "source": [
    "operations = [('column_transfer', column_trans), ('scaler', StandardScaler()), ('logistic', LogisticRegression(random_state=101))]\n",
    "model = Pipeline(steps=operations)\n",
    "\n",
    "\n",
    "scores = cross_validate(model, X_train, y_train, scoring = [\"f1_weighted\"], \n",
    "                        cv = 10, return_train_score=True)\n",
    "df_scores = pd.DataFrame(scores, index = range(1, 11)).iloc[:,2:].mean()\n",
    "df_scores\n",
    "\n",
    "# multiclass datalarda CV veya gridsearchCV için precision, recall ve f1 metriclerini tek başına kullanmayız. Yukarda olduğu\n",
    "# gibi precision_weighted, precision_macro, precision_micro vb. yazmalıyız. Yoksa hata alırsınız. Spesifik olarak tek bir \n",
    "# sınıfa ait CV scorlarını görmek istiyorsak aşağıda gösterildiği gibi make_scorer fonksiyonunu kullanmalıyız."
   ]
  },
  {
   "cell_type": "markdown",
   "metadata": {},
   "source": [
    "### 1 classı için cross validation"
   ]
  },
  {
   "cell_type": "code",
   "execution_count": 46,
   "metadata": {},
   "outputs": [],
   "source": [
    "from sklearn.metrics import make_scorer\n",
    "from sklearn.metrics import precision_score, recall_score, accuracy_score, f1_score, roc_auc_score\n",
    "\n",
    "\n",
    "f1_class1 = make_scorer(f1_score, average = None, labels =[1])\n",
    "precision_class1 = make_scorer(precision_score, average = None, labels =[1])\n",
    "recall_class1 = make_scorer(recall_score, average = None, labels =[1])\n",
    "\n",
    "\n",
    "scoring = {\"f1_class1\":f1_class1, \n",
    "           \"precision_class1\":precision_class1,\n",
    "           \"recall_class1\":recall_class1}"
   ]
  },
  {
   "cell_type": "code",
   "execution_count": 47,
   "metadata": {},
   "outputs": [
    {
     "data": {
      "text/plain": [
       "test_f1_class1            0.919292\n",
       "train_f1_class1           0.930271\n",
       "test_precision_class1     0.889266\n",
       "train_precision_class1    0.900360\n",
       "test_recall_class1        0.951564\n",
       "train_recall_class1       0.962243\n",
       "dtype: float64"
      ]
     },
     "execution_count": 47,
     "metadata": {},
     "output_type": "execute_result"
    }
   ],
   "source": [
    "operations = [('column_transfer', column_trans), ('scaler', StandardScaler()), ('logistic', LogisticRegression(random_state=101))]\n",
    "model = Pipeline(steps=operations)\n",
    "\n",
    "scores = cross_validate(model, X_train, y_train, scoring = scoring, cv = 10, return_train_score=True)\n",
    "df_scores = pd.DataFrame(scores, index = range(1, 11))\n",
    "df_scores.mean()[2:]\n"
   ]
  },
  {
   "cell_type": "markdown",
   "metadata": {},
   "source": [
    "### Classlar için probabilityler"
   ]
  },
  {
   "cell_type": "code",
   "execution_count": 48,
   "metadata": {},
   "outputs": [
    {
     "data": {
      "text/plain": [
       "array([[1.69728372e-03, 9.98225754e-01, 7.69619465e-05],\n",
       "       [9.94485498e-01, 3.64213151e-04, 5.15028912e-03],\n",
       "       [7.50265371e-01, 4.02176760e-02, 2.09516953e-01],\n",
       "       ...,\n",
       "       [9.45491679e-01, 4.03773820e-03, 5.04705826e-02],\n",
       "       [1.16254127e-03, 9.92744312e-01, 6.09314717e-03],\n",
       "       [8.32992398e-01, 6.78446841e-03, 1.60223134e-01]])"
      ]
     },
     "execution_count": 48,
     "metadata": {},
     "output_type": "execute_result"
    }
   ],
   "source": [
    "y_pred=pipe_model2.predict(X_test)\n",
    "y_pred_proba = pipe_model2.predict_proba(X_test)\n",
    "y_pred_proba"
   ]
  },
  {
   "cell_type": "code",
   "execution_count": 49,
   "metadata": {},
   "outputs": [
    {
     "data": {
      "text/html": [
       "<div>\n",
       "<style scoped>\n",
       "    .dataframe tbody tr th:only-of-type {\n",
       "        vertical-align: middle;\n",
       "    }\n",
       "\n",
       "    .dataframe tbody tr th {\n",
       "        vertical-align: top;\n",
       "    }\n",
       "\n",
       "    .dataframe thead th {\n",
       "        text-align: right;\n",
       "    }\n",
       "</style>\n",
       "<table border=\"1\" class=\"dataframe\">\n",
       "  <thead>\n",
       "    <tr style=\"text-align: right;\">\n",
       "      <th></th>\n",
       "      <th>abdominalextensiondepthsitting</th>\n",
       "      <th>acromialheight</th>\n",
       "      <th>acromionradialelength</th>\n",
       "      <th>anklecircumference</th>\n",
       "      <th>axillaheight</th>\n",
       "      <th>balloffootcircumference</th>\n",
       "      <th>balloffootlength</th>\n",
       "      <th>biacromialbreadth</th>\n",
       "      <th>bicepscircumferenceflexed</th>\n",
       "      <th>bicristalbreadth</th>\n",
       "      <th>...</th>\n",
       "      <th>Gender</th>\n",
       "      <th>Component</th>\n",
       "      <th>Branch</th>\n",
       "      <th>Age</th>\n",
       "      <th>WritingPreference</th>\n",
       "      <th>DODRace</th>\n",
       "      <th>pred</th>\n",
       "      <th>pred_proba_class1</th>\n",
       "      <th>pred_proba_class2</th>\n",
       "      <th>pred_proba_class3</th>\n",
       "    </tr>\n",
       "  </thead>\n",
       "  <tbody>\n",
       "    <tr>\n",
       "      <th>2762</th>\n",
       "      <td>374</td>\n",
       "      <td>1574</td>\n",
       "      <td>355</td>\n",
       "      <td>256</td>\n",
       "      <td>1469</td>\n",
       "      <td>273</td>\n",
       "      <td>213</td>\n",
       "      <td>444</td>\n",
       "      <td>428</td>\n",
       "      <td>305</td>\n",
       "      <td>...</td>\n",
       "      <td>Male</td>\n",
       "      <td>Regular Army</td>\n",
       "      <td>Combat Service Support</td>\n",
       "      <td>32</td>\n",
       "      <td>Left hand</td>\n",
       "      <td>2</td>\n",
       "      <td>2</td>\n",
       "      <td>0.001697</td>\n",
       "      <td>0.998226</td>\n",
       "      <td>0.000077</td>\n",
       "    </tr>\n",
       "    <tr>\n",
       "      <th>4283</th>\n",
       "      <td>242</td>\n",
       "      <td>1373</td>\n",
       "      <td>312</td>\n",
       "      <td>253</td>\n",
       "      <td>1286</td>\n",
       "      <td>244</td>\n",
       "      <td>176</td>\n",
       "      <td>374</td>\n",
       "      <td>324</td>\n",
       "      <td>281</td>\n",
       "      <td>...</td>\n",
       "      <td>Female</td>\n",
       "      <td>Army National Guard</td>\n",
       "      <td>Combat Service Support</td>\n",
       "      <td>23</td>\n",
       "      <td>Right hand</td>\n",
       "      <td>1</td>\n",
       "      <td>1</td>\n",
       "      <td>0.994485</td>\n",
       "      <td>0.000364</td>\n",
       "      <td>0.005150</td>\n",
       "    </tr>\n",
       "    <tr>\n",
       "      <th>1224</th>\n",
       "      <td>252</td>\n",
       "      <td>1427</td>\n",
       "      <td>333</td>\n",
       "      <td>222</td>\n",
       "      <td>1311</td>\n",
       "      <td>253</td>\n",
       "      <td>199</td>\n",
       "      <td>415</td>\n",
       "      <td>342</td>\n",
       "      <td>276</td>\n",
       "      <td>...</td>\n",
       "      <td>Male</td>\n",
       "      <td>Army National Guard</td>\n",
       "      <td>Combat Service Support</td>\n",
       "      <td>58</td>\n",
       "      <td>Right hand</td>\n",
       "      <td>1</td>\n",
       "      <td>1</td>\n",
       "      <td>0.750265</td>\n",
       "      <td>0.040218</td>\n",
       "      <td>0.209517</td>\n",
       "    </tr>\n",
       "    <tr>\n",
       "      <th>4238</th>\n",
       "      <td>293</td>\n",
       "      <td>1396</td>\n",
       "      <td>323</td>\n",
       "      <td>220</td>\n",
       "      <td>1300</td>\n",
       "      <td>242</td>\n",
       "      <td>190</td>\n",
       "      <td>374</td>\n",
       "      <td>350</td>\n",
       "      <td>306</td>\n",
       "      <td>...</td>\n",
       "      <td>Female</td>\n",
       "      <td>Regular Army</td>\n",
       "      <td>Combat Service Support</td>\n",
       "      <td>22</td>\n",
       "      <td>Right hand</td>\n",
       "      <td>2</td>\n",
       "      <td>2</td>\n",
       "      <td>0.000250</td>\n",
       "      <td>0.994998</td>\n",
       "      <td>0.004752</td>\n",
       "    </tr>\n",
       "    <tr>\n",
       "      <th>4230</th>\n",
       "      <td>248</td>\n",
       "      <td>1271</td>\n",
       "      <td>297</td>\n",
       "      <td>225</td>\n",
       "      <td>1197</td>\n",
       "      <td>229</td>\n",
       "      <td>183</td>\n",
       "      <td>359</td>\n",
       "      <td>282</td>\n",
       "      <td>285</td>\n",
       "      <td>...</td>\n",
       "      <td>Female</td>\n",
       "      <td>Regular Army</td>\n",
       "      <td>Combat Support</td>\n",
       "      <td>47</td>\n",
       "      <td>Right hand</td>\n",
       "      <td>2</td>\n",
       "      <td>2</td>\n",
       "      <td>0.002830</td>\n",
       "      <td>0.980812</td>\n",
       "      <td>0.016358</td>\n",
       "    </tr>\n",
       "    <tr>\n",
       "      <th>...</th>\n",
       "      <td>...</td>\n",
       "      <td>...</td>\n",
       "      <td>...</td>\n",
       "      <td>...</td>\n",
       "      <td>...</td>\n",
       "      <td>...</td>\n",
       "      <td>...</td>\n",
       "      <td>...</td>\n",
       "      <td>...</td>\n",
       "      <td>...</td>\n",
       "      <td>...</td>\n",
       "      <td>...</td>\n",
       "      <td>...</td>\n",
       "      <td>...</td>\n",
       "      <td>...</td>\n",
       "      <td>...</td>\n",
       "      <td>...</td>\n",
       "      <td>...</td>\n",
       "      <td>...</td>\n",
       "      <td>...</td>\n",
       "      <td>...</td>\n",
       "    </tr>\n",
       "    <tr>\n",
       "      <th>914</th>\n",
       "      <td>275</td>\n",
       "      <td>1614</td>\n",
       "      <td>359</td>\n",
       "      <td>270</td>\n",
       "      <td>1504</td>\n",
       "      <td>271</td>\n",
       "      <td>234</td>\n",
       "      <td>430</td>\n",
       "      <td>388</td>\n",
       "      <td>317</td>\n",
       "      <td>...</td>\n",
       "      <td>Male</td>\n",
       "      <td>Army National Guard</td>\n",
       "      <td>Combat Support</td>\n",
       "      <td>24</td>\n",
       "      <td>Left hand</td>\n",
       "      <td>1</td>\n",
       "      <td>1</td>\n",
       "      <td>0.991021</td>\n",
       "      <td>0.000827</td>\n",
       "      <td>0.008152</td>\n",
       "    </tr>\n",
       "    <tr>\n",
       "      <th>4366</th>\n",
       "      <td>190</td>\n",
       "      <td>1303</td>\n",
       "      <td>300</td>\n",
       "      <td>200</td>\n",
       "      <td>1210</td>\n",
       "      <td>226</td>\n",
       "      <td>168</td>\n",
       "      <td>371</td>\n",
       "      <td>260</td>\n",
       "      <td>270</td>\n",
       "      <td>...</td>\n",
       "      <td>Female</td>\n",
       "      <td>Regular Army</td>\n",
       "      <td>Combat Support</td>\n",
       "      <td>37</td>\n",
       "      <td>Right hand</td>\n",
       "      <td>1</td>\n",
       "      <td>1</td>\n",
       "      <td>0.789750</td>\n",
       "      <td>0.000321</td>\n",
       "      <td>0.209929</td>\n",
       "    </tr>\n",
       "    <tr>\n",
       "      <th>3039</th>\n",
       "      <td>232</td>\n",
       "      <td>1372</td>\n",
       "      <td>330</td>\n",
       "      <td>227</td>\n",
       "      <td>1259</td>\n",
       "      <td>246</td>\n",
       "      <td>189</td>\n",
       "      <td>406</td>\n",
       "      <td>331</td>\n",
       "      <td>279</td>\n",
       "      <td>...</td>\n",
       "      <td>Male</td>\n",
       "      <td>Regular Army</td>\n",
       "      <td>Combat Service Support</td>\n",
       "      <td>19</td>\n",
       "      <td>Right hand</td>\n",
       "      <td>1</td>\n",
       "      <td>1</td>\n",
       "      <td>0.945492</td>\n",
       "      <td>0.004038</td>\n",
       "      <td>0.050471</td>\n",
       "    </tr>\n",
       "    <tr>\n",
       "      <th>2813</th>\n",
       "      <td>202</td>\n",
       "      <td>1294</td>\n",
       "      <td>308</td>\n",
       "      <td>225</td>\n",
       "      <td>1187</td>\n",
       "      <td>244</td>\n",
       "      <td>200</td>\n",
       "      <td>422</td>\n",
       "      <td>316</td>\n",
       "      <td>238</td>\n",
       "      <td>...</td>\n",
       "      <td>Male</td>\n",
       "      <td>Regular Army</td>\n",
       "      <td>Combat Service Support</td>\n",
       "      <td>22</td>\n",
       "      <td>Right hand</td>\n",
       "      <td>2</td>\n",
       "      <td>2</td>\n",
       "      <td>0.001163</td>\n",
       "      <td>0.992744</td>\n",
       "      <td>0.006093</td>\n",
       "    </tr>\n",
       "    <tr>\n",
       "      <th>5290</th>\n",
       "      <td>201</td>\n",
       "      <td>1318</td>\n",
       "      <td>301</td>\n",
       "      <td>236</td>\n",
       "      <td>1212</td>\n",
       "      <td>243</td>\n",
       "      <td>172</td>\n",
       "      <td>362</td>\n",
       "      <td>326</td>\n",
       "      <td>242</td>\n",
       "      <td>...</td>\n",
       "      <td>Female</td>\n",
       "      <td>Regular Army</td>\n",
       "      <td>Combat Service Support</td>\n",
       "      <td>26</td>\n",
       "      <td>Right hand</td>\n",
       "      <td>1</td>\n",
       "      <td>1</td>\n",
       "      <td>0.832992</td>\n",
       "      <td>0.006784</td>\n",
       "      <td>0.160223</td>\n",
       "    </tr>\n",
       "  </tbody>\n",
       "</table>\n",
       "<p>1154 rows × 103 columns</p>\n",
       "</div>"
      ],
      "text/plain": [
       "      abdominalextensiondepthsitting  acromialheight  acromionradialelength  \\\n",
       "2762                             374            1574                    355   \n",
       "4283                             242            1373                    312   \n",
       "1224                             252            1427                    333   \n",
       "4238                             293            1396                    323   \n",
       "4230                             248            1271                    297   \n",
       "...                              ...             ...                    ...   \n",
       "914                              275            1614                    359   \n",
       "4366                             190            1303                    300   \n",
       "3039                             232            1372                    330   \n",
       "2813                             202            1294                    308   \n",
       "5290                             201            1318                    301   \n",
       "\n",
       "      anklecircumference  axillaheight  balloffootcircumference  \\\n",
       "2762                 256          1469                      273   \n",
       "4283                 253          1286                      244   \n",
       "1224                 222          1311                      253   \n",
       "4238                 220          1300                      242   \n",
       "4230                 225          1197                      229   \n",
       "...                  ...           ...                      ...   \n",
       "914                  270          1504                      271   \n",
       "4366                 200          1210                      226   \n",
       "3039                 227          1259                      246   \n",
       "2813                 225          1187                      244   \n",
       "5290                 236          1212                      243   \n",
       "\n",
       "      balloffootlength  biacromialbreadth  bicepscircumferenceflexed  \\\n",
       "2762               213                444                        428   \n",
       "4283               176                374                        324   \n",
       "1224               199                415                        342   \n",
       "4238               190                374                        350   \n",
       "4230               183                359                        282   \n",
       "...                ...                ...                        ...   \n",
       "914                234                430                        388   \n",
       "4366               168                371                        260   \n",
       "3039               189                406                        331   \n",
       "2813               200                422                        316   \n",
       "5290               172                362                        326   \n",
       "\n",
       "      bicristalbreadth  ...  Gender            Component  \\\n",
       "2762               305  ...    Male         Regular Army   \n",
       "4283               281  ...  Female  Army National Guard   \n",
       "1224               276  ...    Male  Army National Guard   \n",
       "4238               306  ...  Female         Regular Army   \n",
       "4230               285  ...  Female         Regular Army   \n",
       "...                ...  ...     ...                  ...   \n",
       "914                317  ...    Male  Army National Guard   \n",
       "4366               270  ...  Female         Regular Army   \n",
       "3039               279  ...    Male         Regular Army   \n",
       "2813               238  ...    Male         Regular Army   \n",
       "5290               242  ...  Female         Regular Army   \n",
       "\n",
       "                      Branch  Age  WritingPreference  DODRace  pred  \\\n",
       "2762  Combat Service Support   32          Left hand        2     2   \n",
       "4283  Combat Service Support   23         Right hand        1     1   \n",
       "1224  Combat Service Support   58         Right hand        1     1   \n",
       "4238  Combat Service Support   22         Right hand        2     2   \n",
       "4230          Combat Support   47         Right hand        2     2   \n",
       "...                      ...  ...                ...      ...   ...   \n",
       "914           Combat Support   24          Left hand        1     1   \n",
       "4366          Combat Support   37         Right hand        1     1   \n",
       "3039  Combat Service Support   19         Right hand        1     1   \n",
       "2813  Combat Service Support   22         Right hand        2     2   \n",
       "5290  Combat Service Support   26         Right hand        1     1   \n",
       "\n",
       "      pred_proba_class1  pred_proba_class2  pred_proba_class3  \n",
       "2762           0.001697           0.998226           0.000077  \n",
       "4283           0.994485           0.000364           0.005150  \n",
       "1224           0.750265           0.040218           0.209517  \n",
       "4238           0.000250           0.994998           0.004752  \n",
       "4230           0.002830           0.980812           0.016358  \n",
       "...                 ...                ...                ...  \n",
       "914            0.991021           0.000827           0.008152  \n",
       "4366           0.789750           0.000321           0.209929  \n",
       "3039           0.945492           0.004038           0.050471  \n",
       "2813           0.001163           0.992744           0.006093  \n",
       "5290           0.832992           0.006784           0.160223  \n",
       "\n",
       "[1154 rows x 103 columns]"
      ]
     },
     "execution_count": 49,
     "metadata": {},
     "output_type": "execute_result"
    }
   ],
   "source": [
    "test_data = pd.concat([X_test, y_test], axis=1)\n",
    "test_data[\"pred\"] = y_pred\n",
    "test_data[\"pred_proba_class1\"] = y_pred_proba[:,0]\n",
    "test_data[\"pred_proba_class2\"] = y_pred_proba[:,1]\n",
    "test_data[\"pred_proba_class3\"] = y_pred_proba[:,2]\n",
    "test_data"
   ]
  },
  {
   "cell_type": "markdown",
   "metadata": {},
   "source": [
    "### Logistic Model GridsearchCV"
   ]
  },
  {
   "cell_type": "code",
   "execution_count": 50,
   "metadata": {},
   "outputs": [],
   "source": [
    "from sklearn.model_selection import GridSearchCV\n",
    "\n",
    "operations = [('column_transfer', column_trans), ('scaler', StandardScaler()), ('logistic', LogisticRegression(random_state=101))]\n",
    "model = Pipeline(steps=operations)\n",
    "\n",
    "penalty = [\"l1\", \"l2\"]\n",
    "C = [0.01, 0.1, 1, 5, 16, 19, 22, 25]\n",
    "\n",
    "param_grid = {\"logistic__penalty\" : penalty,\n",
    "             \"logistic__C\" : C}\n",
    "\n",
    "grid_model = GridSearchCV(model, param_grid = param_grid, cv=5, return_train_score=True)\n",
    "\n",
    "# \n"
   ]
  },
  {
   "cell_type": "code",
   "execution_count": 51,
   "metadata": {},
   "outputs": [
    {
     "data": {
      "text/plain": [
       "GridSearchCV(cv=5,\n",
       "             estimator=Pipeline(steps=[('column_transfer',\n",
       "                                        ColumnTransformer(remainder='passthrough',\n",
       "                                                          transformers=[('onehotencoder',\n",
       "                                                                         OneHotEncoder(handle_unknown='ignore',\n",
       "                                                                                       sparse=False),\n",
       "                                                                         ['Gender',\n",
       "                                                                          'Component',\n",
       "                                                                          'Branch',\n",
       "                                                                          'WritingPreference'])])),\n",
       "                                       ('scaler', StandardScaler()),\n",
       "                                       ('logistic',\n",
       "                                        LogisticRegression(random_state=101))]),\n",
       "             param_grid={'logistic__C': [0.01, 0.1, 1, 5, 16, 19, 22, 25],\n",
       "                         'logistic__penalty': ['l1', 'l2']},\n",
       "             return_train_score=True)"
      ]
     },
     "execution_count": 51,
     "metadata": {},
     "output_type": "execute_result"
    }
   ],
   "source": [
    "grid_model.fit(X_train,y_train)"
   ]
  },
  {
   "cell_type": "code",
   "execution_count": 52,
   "metadata": {},
   "outputs": [
    {
     "data": {
      "text/plain": [
       "{'logistic__C': 5, 'logistic__penalty': 'l2'}"
      ]
     },
     "execution_count": 52,
     "metadata": {},
     "output_type": "execute_result"
    }
   ],
   "source": [
    "grid_model.best_params_"
   ]
  },
  {
   "cell_type": "code",
   "execution_count": 53,
   "metadata": {},
   "outputs": [
    {
     "data": {
      "text/plain": [
       "0.8715059588299026"
      ]
     },
     "execution_count": 53,
     "metadata": {},
     "output_type": "execute_result"
    }
   ],
   "source": [
    "grid_model.best_score_"
   ]
  },
  {
   "cell_type": "code",
   "execution_count": 54,
   "metadata": {},
   "outputs": [
    {
     "data": {
      "text/plain": [
       "array([2, 1, 1, ..., 1, 2, 1], dtype=int64)"
      ]
     },
     "execution_count": 54,
     "metadata": {},
     "output_type": "execute_result"
    }
   ],
   "source": [
    "y_pred = grid_model.predict(X_test)\n",
    "y_pred"
   ]
  },
  {
   "cell_type": "code",
   "execution_count": 55,
   "metadata": {},
   "outputs": [
    {
     "name": "stdout",
     "output_type": "stream",
     "text": [
      "Test_Set\n",
      "\n",
      "[[729  14  15]\n",
      " [ 19 237   4]\n",
      " [ 67  18  51]]\n",
      "              precision    recall  f1-score   support\n",
      "\n",
      "           1       0.89      0.96      0.93       758\n",
      "           2       0.88      0.91      0.90       260\n",
      "           3       0.73      0.38      0.50       136\n",
      "\n",
      "    accuracy                           0.88      1154\n",
      "   macro avg       0.83      0.75      0.77      1154\n",
      "weighted avg       0.87      0.88      0.87      1154\n",
      "\n",
      "\n",
      "Train_Set\n",
      "\n",
      "[[2919   29   86]\n",
      " [  54  962   22]\n",
      " [ 265   59  219]]\n",
      "              precision    recall  f1-score   support\n",
      "\n",
      "           1       0.90      0.96      0.93      3034\n",
      "           2       0.92      0.93      0.92      1038\n",
      "           3       0.67      0.40      0.50       543\n",
      "\n",
      "    accuracy                           0.89      4615\n",
      "   macro avg       0.83      0.76      0.79      4615\n",
      "weighted avg       0.88      0.89      0.88      4615\n",
      "\n"
     ]
    }
   ],
   "source": [
    "eval_metric(grid_model)"
   ]
  },
  {
   "cell_type": "code",
   "execution_count": 56,
   "metadata": {},
   "outputs": [
    {
     "name": "stdout",
     "output_type": "stream",
     "text": [
      "Test_Set\n",
      "\n",
      "[[731  14  13]\n",
      " [ 19 237   4]\n",
      " [ 68  19  49]]\n",
      "              precision    recall  f1-score   support\n",
      "\n",
      "           1       0.89      0.96      0.93       758\n",
      "           2       0.88      0.91      0.89       260\n",
      "           3       0.74      0.36      0.49       136\n",
      "\n",
      "    accuracy                           0.88      1154\n",
      "   macro avg       0.84      0.75      0.77      1154\n",
      "weighted avg       0.87      0.88      0.87      1154\n",
      "\n",
      "\n",
      "Train_Set\n",
      "\n",
      "[[2924   27   83]\n",
      " [  56  960   22]\n",
      " [ 266   59  218]]\n",
      "              precision    recall  f1-score   support\n",
      "\n",
      "           1       0.90      0.96      0.93      3034\n",
      "           2       0.92      0.92      0.92      1038\n",
      "           3       0.67      0.40      0.50       543\n",
      "\n",
      "    accuracy                           0.89      4615\n",
      "   macro avg       0.83      0.76      0.79      4615\n",
      "weighted avg       0.88      0.89      0.88      4615\n",
      "\n"
     ]
    }
   ],
   "source": [
    "eval_metric(pipe_model2)"
   ]
  },
  {
   "cell_type": "markdown",
   "metadata": {
    "heading_collapsed": true,
    "hidden": true,
    "id": "lPelWxsU1b7C"
   },
   "source": [
    "### Precision Recall Curve"
   ]
  },
  {
   "cell_type": "code",
   "execution_count": 57,
   "metadata": {},
   "outputs": [
    {
     "data": {
      "image/png": "[encoded data removed]",
      "text/plain": [
       "<Figure size 432x288 with 1 Axes>"
      ]
     },
     "metadata": {
      "needs_background": "light"
     },
     "output_type": "display_data"
    }
   ],
   "source": [
    "from scikitplot.metrics import plot_roc, precision_recall_curve\n",
    "from scikitplot.metrics import plot_precision_recall\n",
    "\n",
    "operations = [('column_transfer', column_trans), ('scaler', StandardScaler()), ('logistic', LogisticRegression(random_state=101))]\n",
    "model = Pipeline(steps=operations)\n",
    "model.fit(X_train, y_train)\n",
    "\n",
    "y_pred_proba = model.predict_proba(X_test)\n",
    "    \n",
    "plot_precision_recall(y_test, y_pred_proba)\n",
    "plt.show();"
   ]
  },
  {
   "cell_type": "markdown",
   "metadata": {
    "heading_collapsed": true,
    "hidden": true,
    "id": "GM0PL5eZ1b7E"
   },
   "source": [
    "## 2. SVC"
   ]
  },
  {
   "cell_type": "markdown",
   "metadata": {
    "heading_collapsed": true,
    "hidden": true,
    "id": "P3j_Xk1L1b7E"
   },
   "source": [
    "### Vanilla SVC model "
   ]
  },
  {
   "cell_type": "code",
   "execution_count": 58,
   "metadata": {},
   "outputs": [
    {
     "name": "stdout",
     "output_type": "stream",
     "text": [
      "Requirement already satisfied: xgboost in c:\\users\\dell\\anaconda3\\lib\\site-packages (1.7.2)\n",
      "Requirement already satisfied: scipy in c:\\users\\dell\\anaconda3\\lib\\site-packages (from xgboost) (1.7.3)\n",
      "Requirement already satisfied: numpy in c:\\users\\dell\\anaconda3\\lib\\site-packages (from xgboost) (1.21.5)\n"
     ]
    }
   ],
   "source": [
    "!pip install xgboost"
   ]
  },
  {
   "cell_type": "code",
   "execution_count": 59,
   "metadata": {
    "id": "pro8T6CM19vX"
   },
   "outputs": [],
   "source": [
    "from sklearn.preprocessing import MinMaxScaler\n",
    "from sklearn.metrics import accuracy_score,f1_score, classification_report,confusion_matrix\n",
    "from sklearn.model_selection import train_test_split\n",
    "from sklearn.model_selection import  GridSearchCV\n",
    "from sklearn.svm import SVC\n",
    "from sklearn.ensemble import RandomForestClassifier\n",
    "from xgboost import XGBClassifier\n",
    "from yellowbrick.classifier import ClassPredictionError, ROCAUC\n"
   ]
  },
  {
   "cell_type": "code",
   "execution_count": 60,
   "metadata": {},
   "outputs": [
    {
     "data": {
      "text/html": [
       "<div>\n",
       "<style scoped>\n",
       "    .dataframe tbody tr th:only-of-type {\n",
       "        vertical-align: middle;\n",
       "    }\n",
       "\n",
       "    .dataframe tbody tr th {\n",
       "        vertical-align: top;\n",
       "    }\n",
       "\n",
       "    .dataframe thead th {\n",
       "        text-align: right;\n",
       "    }\n",
       "</style>\n",
       "<table border=\"1\" class=\"dataframe\">\n",
       "  <thead>\n",
       "    <tr style=\"text-align: right;\">\n",
       "      <th></th>\n",
       "      <th>abdominalextensiondepthsitting</th>\n",
       "      <th>acromialheight</th>\n",
       "      <th>acromionradialelength</th>\n",
       "      <th>anklecircumference</th>\n",
       "      <th>axillaheight</th>\n",
       "      <th>balloffootcircumference</th>\n",
       "      <th>balloffootlength</th>\n",
       "      <th>biacromialbreadth</th>\n",
       "      <th>bicepscircumferenceflexed</th>\n",
       "      <th>bicristalbreadth</th>\n",
       "      <th>...</th>\n",
       "      <th>waistheightomphalion</th>\n",
       "      <th>weightkg</th>\n",
       "      <th>wristcircumference</th>\n",
       "      <th>wristheight</th>\n",
       "      <th>Gender</th>\n",
       "      <th>Component</th>\n",
       "      <th>Branch</th>\n",
       "      <th>DODRace</th>\n",
       "      <th>Age</th>\n",
       "      <th>WritingPreference</th>\n",
       "    </tr>\n",
       "  </thead>\n",
       "  <tbody>\n",
       "    <tr>\n",
       "      <th>0</th>\n",
       "      <td>266</td>\n",
       "      <td>1467</td>\n",
       "      <td>337</td>\n",
       "      <td>222</td>\n",
       "      <td>1347</td>\n",
       "      <td>253</td>\n",
       "      <td>202</td>\n",
       "      <td>401</td>\n",
       "      <td>369</td>\n",
       "      <td>274</td>\n",
       "      <td>...</td>\n",
       "      <td>1054</td>\n",
       "      <td>815</td>\n",
       "      <td>175</td>\n",
       "      <td>853</td>\n",
       "      <td>Male</td>\n",
       "      <td>Regular Army</td>\n",
       "      <td>Combat Arms</td>\n",
       "      <td>1</td>\n",
       "      <td>41</td>\n",
       "      <td>Right hand</td>\n",
       "    </tr>\n",
       "    <tr>\n",
       "      <th>1</th>\n",
       "      <td>233</td>\n",
       "      <td>1395</td>\n",
       "      <td>326</td>\n",
       "      <td>220</td>\n",
       "      <td>1293</td>\n",
       "      <td>245</td>\n",
       "      <td>193</td>\n",
       "      <td>394</td>\n",
       "      <td>338</td>\n",
       "      <td>257</td>\n",
       "      <td>...</td>\n",
       "      <td>1054</td>\n",
       "      <td>726</td>\n",
       "      <td>167</td>\n",
       "      <td>815</td>\n",
       "      <td>Male</td>\n",
       "      <td>Regular Army</td>\n",
       "      <td>Combat Support</td>\n",
       "      <td>1</td>\n",
       "      <td>35</td>\n",
       "      <td>Left hand</td>\n",
       "    </tr>\n",
       "    <tr>\n",
       "      <th>2</th>\n",
       "      <td>287</td>\n",
       "      <td>1430</td>\n",
       "      <td>341</td>\n",
       "      <td>230</td>\n",
       "      <td>1327</td>\n",
       "      <td>256</td>\n",
       "      <td>196</td>\n",
       "      <td>427</td>\n",
       "      <td>408</td>\n",
       "      <td>261</td>\n",
       "      <td>...</td>\n",
       "      <td>1041</td>\n",
       "      <td>929</td>\n",
       "      <td>180</td>\n",
       "      <td>831</td>\n",
       "      <td>Male</td>\n",
       "      <td>Regular Army</td>\n",
       "      <td>Combat Support</td>\n",
       "      <td>2</td>\n",
       "      <td>42</td>\n",
       "      <td>Left hand</td>\n",
       "    </tr>\n",
       "    <tr>\n",
       "      <th>3</th>\n",
       "      <td>234</td>\n",
       "      <td>1347</td>\n",
       "      <td>310</td>\n",
       "      <td>230</td>\n",
       "      <td>1239</td>\n",
       "      <td>262</td>\n",
       "      <td>199</td>\n",
       "      <td>401</td>\n",
       "      <td>359</td>\n",
       "      <td>262</td>\n",
       "      <td>...</td>\n",
       "      <td>968</td>\n",
       "      <td>794</td>\n",
       "      <td>176</td>\n",
       "      <td>793</td>\n",
       "      <td>Male</td>\n",
       "      <td>Regular Army</td>\n",
       "      <td>Combat Service Support</td>\n",
       "      <td>1</td>\n",
       "      <td>31</td>\n",
       "      <td>Right hand</td>\n",
       "    </tr>\n",
       "    <tr>\n",
       "      <th>4</th>\n",
       "      <td>250</td>\n",
       "      <td>1585</td>\n",
       "      <td>372</td>\n",
       "      <td>247</td>\n",
       "      <td>1478</td>\n",
       "      <td>267</td>\n",
       "      <td>224</td>\n",
       "      <td>435</td>\n",
       "      <td>356</td>\n",
       "      <td>263</td>\n",
       "      <td>...</td>\n",
       "      <td>1245</td>\n",
       "      <td>946</td>\n",
       "      <td>188</td>\n",
       "      <td>954</td>\n",
       "      <td>Male</td>\n",
       "      <td>Regular Army</td>\n",
       "      <td>Combat Service Support</td>\n",
       "      <td>2</td>\n",
       "      <td>21</td>\n",
       "      <td>Right hand</td>\n",
       "    </tr>\n",
       "    <tr>\n",
       "      <th>...</th>\n",
       "      <td>...</td>\n",
       "      <td>...</td>\n",
       "      <td>...</td>\n",
       "      <td>...</td>\n",
       "      <td>...</td>\n",
       "      <td>...</td>\n",
       "      <td>...</td>\n",
       "      <td>...</td>\n",
       "      <td>...</td>\n",
       "      <td>...</td>\n",
       "      <td>...</td>\n",
       "      <td>...</td>\n",
       "      <td>...</td>\n",
       "      <td>...</td>\n",
       "      <td>...</td>\n",
       "      <td>...</td>\n",
       "      <td>...</td>\n",
       "      <td>...</td>\n",
       "      <td>...</td>\n",
       "      <td>...</td>\n",
       "      <td>...</td>\n",
       "    </tr>\n",
       "    <tr>\n",
       "      <th>5764</th>\n",
       "      <td>285</td>\n",
       "      <td>1392</td>\n",
       "      <td>335</td>\n",
       "      <td>223</td>\n",
       "      <td>1297</td>\n",
       "      <td>252</td>\n",
       "      <td>196</td>\n",
       "      <td>368</td>\n",
       "      <td>299</td>\n",
       "      <td>312</td>\n",
       "      <td>...</td>\n",
       "      <td>1002</td>\n",
       "      <td>832</td>\n",
       "      <td>162</td>\n",
       "      <td>836</td>\n",
       "      <td>Female</td>\n",
       "      <td>Army National Guard</td>\n",
       "      <td>Combat Support</td>\n",
       "      <td>3</td>\n",
       "      <td>51</td>\n",
       "      <td>Right hand</td>\n",
       "    </tr>\n",
       "    <tr>\n",
       "      <th>5765</th>\n",
       "      <td>262</td>\n",
       "      <td>1324</td>\n",
       "      <td>301</td>\n",
       "      <td>202</td>\n",
       "      <td>1204</td>\n",
       "      <td>236</td>\n",
       "      <td>181</td>\n",
       "      <td>378</td>\n",
       "      <td>294</td>\n",
       "      <td>287</td>\n",
       "      <td>...</td>\n",
       "      <td>958</td>\n",
       "      <td>717</td>\n",
       "      <td>157</td>\n",
       "      <td>804</td>\n",
       "      <td>Female</td>\n",
       "      <td>Army National Guard</td>\n",
       "      <td>Combat Support</td>\n",
       "      <td>3</td>\n",
       "      <td>40</td>\n",
       "      <td>Right hand</td>\n",
       "    </tr>\n",
       "    <tr>\n",
       "      <th>5766</th>\n",
       "      <td>260</td>\n",
       "      <td>1334</td>\n",
       "      <td>318</td>\n",
       "      <td>213</td>\n",
       "      <td>1259</td>\n",
       "      <td>234</td>\n",
       "      <td>183</td>\n",
       "      <td>363</td>\n",
       "      <td>332</td>\n",
       "      <td>299</td>\n",
       "      <td>...</td>\n",
       "      <td>970</td>\n",
       "      <td>762</td>\n",
       "      <td>159</td>\n",
       "      <td>774</td>\n",
       "      <td>Female</td>\n",
       "      <td>Army National Guard</td>\n",
       "      <td>Combat Support</td>\n",
       "      <td>2</td>\n",
       "      <td>40</td>\n",
       "      <td>Right hand</td>\n",
       "    </tr>\n",
       "    <tr>\n",
       "      <th>5767</th>\n",
       "      <td>205</td>\n",
       "      <td>1293</td>\n",
       "      <td>302</td>\n",
       "      <td>199</td>\n",
       "      <td>1207</td>\n",
       "      <td>213</td>\n",
       "      <td>163</td>\n",
       "      <td>376</td>\n",
       "      <td>276</td>\n",
       "      <td>280</td>\n",
       "      <td>...</td>\n",
       "      <td>952</td>\n",
       "      <td>632</td>\n",
       "      <td>146</td>\n",
       "      <td>769</td>\n",
       "      <td>Female</td>\n",
       "      <td>Army National Guard</td>\n",
       "      <td>Combat Support</td>\n",
       "      <td>3</td>\n",
       "      <td>31</td>\n",
       "      <td>Right hand</td>\n",
       "    </tr>\n",
       "    <tr>\n",
       "      <th>5768</th>\n",
       "      <td>238</td>\n",
       "      <td>1346</td>\n",
       "      <td>308</td>\n",
       "      <td>210</td>\n",
       "      <td>1256</td>\n",
       "      <td>236</td>\n",
       "      <td>188</td>\n",
       "      <td>361</td>\n",
       "      <td>285</td>\n",
       "      <td>279</td>\n",
       "      <td>...</td>\n",
       "      <td>943</td>\n",
       "      <td>610</td>\n",
       "      <td>154</td>\n",
       "      <td>797</td>\n",
       "      <td>Female</td>\n",
       "      <td>Army National Guard</td>\n",
       "      <td>Combat Support</td>\n",
       "      <td>3</td>\n",
       "      <td>27</td>\n",
       "      <td>Right hand</td>\n",
       "    </tr>\n",
       "  </tbody>\n",
       "</table>\n",
       "<p>5769 rows × 99 columns</p>\n",
       "</div>"
      ],
      "text/plain": [
       "      abdominalextensiondepthsitting  acromialheight  acromionradialelength  \\\n",
       "0                                266            1467                    337   \n",
       "1                                233            1395                    326   \n",
       "2                                287            1430                    341   \n",
       "3                                234            1347                    310   \n",
       "4                                250            1585                    372   \n",
       "...                              ...             ...                    ...   \n",
       "5764                             285            1392                    335   \n",
       "5765                             262            1324                    301   \n",
       "5766                             260            1334                    318   \n",
       "5767                             205            1293                    302   \n",
       "5768                             238            1346                    308   \n",
       "\n",
       "      anklecircumference  axillaheight  balloffootcircumference  \\\n",
       "0                    222          1347                      253   \n",
       "1                    220          1293                      245   \n",
       "2                    230          1327                      256   \n",
       "3                    230          1239                      262   \n",
       "4                    247          1478                      267   \n",
       "...                  ...           ...                      ...   \n",
       "5764                 223          1297                      252   \n",
       "5765                 202          1204                      236   \n",
       "5766                 213          1259                      234   \n",
       "5767                 199          1207                      213   \n",
       "5768                 210          1256                      236   \n",
       "\n",
       "      balloffootlength  biacromialbreadth  bicepscircumferenceflexed  \\\n",
       "0                  202                401                        369   \n",
       "1                  193                394                        338   \n",
       "2                  196                427                        408   \n",
       "3                  199                401                        359   \n",
       "4                  224                435                        356   \n",
       "...                ...                ...                        ...   \n",
       "5764               196                368                        299   \n",
       "5765               181                378                        294   \n",
       "5766               183                363                        332   \n",
       "5767               163                376                        276   \n",
       "5768               188                361                        285   \n",
       "\n",
       "      bicristalbreadth  ...  waistheightomphalion  weightkg  \\\n",
       "0                  274  ...                  1054       815   \n",
       "1                  257  ...                  1054       726   \n",
       "2                  261  ...                  1041       929   \n",
       "3                  262  ...                   968       794   \n",
       "4                  263  ...                  1245       946   \n",
       "...                ...  ...                   ...       ...   \n",
       "5764               312  ...                  1002       832   \n",
       "5765               287  ...                   958       717   \n",
       "5766               299  ...                   970       762   \n",
       "5767               280  ...                   952       632   \n",
       "5768               279  ...                   943       610   \n",
       "\n",
       "      wristcircumference  wristheight  Gender            Component  \\\n",
       "0                    175          853    Male         Regular Army   \n",
       "1                    167          815    Male         Regular Army   \n",
       "2                    180          831    Male         Regular Army   \n",
       "3                    176          793    Male         Regular Army   \n",
       "4                    188          954    Male         Regular Army   \n",
       "...                  ...          ...     ...                  ...   \n",
       "5764                 162          836  Female  Army National Guard   \n",
       "5765                 157          804  Female  Army National Guard   \n",
       "5766                 159          774  Female  Army National Guard   \n",
       "5767                 146          769  Female  Army National Guard   \n",
       "5768                 154          797  Female  Army National Guard   \n",
       "\n",
       "                      Branch  DODRace  Age  WritingPreference  \n",
       "0                Combat Arms        1   41         Right hand  \n",
       "1             Combat Support        1   35          Left hand  \n",
       "2             Combat Support        2   42          Left hand  \n",
       "3     Combat Service Support        1   31         Right hand  \n",
       "4     Combat Service Support        2   21         Right hand  \n",
       "...                      ...      ...  ...                ...  \n",
       "5764          Combat Support        3   51         Right hand  \n",
       "5765          Combat Support        3   40         Right hand  \n",
       "5766          Combat Support        2   40         Right hand  \n",
       "5767          Combat Support        3   31         Right hand  \n",
       "5768          Combat Support        3   27         Right hand  \n",
       "\n",
       "[5769 rows x 99 columns]"
      ]
     },
     "execution_count": 60,
     "metadata": {},
     "output_type": "execute_result"
    }
   ],
   "source": [
    "df2"
   ]
  },
  {
   "cell_type": "code",
   "execution_count": 61,
   "metadata": {},
   "outputs": [],
   "source": [
    "scaler = MinMaxScaler()\n",
    "modelSVM =  SVC(kernel=\"rbf\")\n"
   ]
  },
  {
   "cell_type": "code",
   "execution_count": 62,
   "metadata": {},
   "outputs": [],
   "source": [
    "column_trans = make_column_transformer((OneHotEncoder(handle_unknown=\"ignore\", sparse=False), cat),\n",
    "                                       remainder = 'passthrough')"
   ]
  },
  {
   "cell_type": "code",
   "execution_count": 63,
   "metadata": {},
   "outputs": [],
   "source": [
    "operations = [('column_transfer', column_trans), ('scaler', scaler), ('SVM', modelSVM)]"
   ]
  },
  {
   "cell_type": "code",
   "execution_count": 64,
   "metadata": {},
   "outputs": [],
   "source": [
    "pipe_model_SVM = Pipeline(steps = operations)"
   ]
  },
  {
   "cell_type": "code",
   "execution_count": 65,
   "metadata": {},
   "outputs": [
    {
     "data": {
      "text/plain": [
       "Pipeline(steps=[('column_transfer',\n",
       "                 ColumnTransformer(remainder='passthrough',\n",
       "                                   transformers=[('onehotencoder',\n",
       "                                                  OneHotEncoder(handle_unknown='ignore',\n",
       "                                                                sparse=False),\n",
       "                                                  ['Gender', 'Component',\n",
       "                                                   'Branch',\n",
       "                                                   'WritingPreference'])])),\n",
       "                ('scaler', MinMaxScaler()), ('SVM', SVC())])"
      ]
     },
     "execution_count": 65,
     "metadata": {},
     "output_type": "execute_result"
    }
   ],
   "source": [
    "pipe_model_SVM.fit(X_train, y_train)"
   ]
  },
  {
   "cell_type": "code",
   "execution_count": 66,
   "metadata": {},
   "outputs": [],
   "source": [
    "y_pred_test = pipe_model_SVM.predict(X_test)\n",
    "y_pred_train = pipe_model_SVM.predict(X_train)"
   ]
  },
  {
   "cell_type": "code",
   "execution_count": 67,
   "metadata": {},
   "outputs": [
    {
     "data": {
      "text/plain": [
       "(0.8492201039861352,\n",
       " 0.8697724810400866,\n",
       " 0.8067894021522168,\n",
       " 0.8297476451286824)"
      ]
     },
     "execution_count": 67,
     "metadata": {},
     "output_type": "execute_result"
    }
   ],
   "source": [
    "SVM_accuracy_test = accuracy_score(y_test, y_pred_test)\n",
    "SVM_accuracy_train = accuracy_score(y_train, y_pred_train)\n",
    "\n",
    "svm_f1_test = f1_score(y_test, y_pred_test, average='weighted')\n",
    "svm_f1_train = f1_score(y_train, y_pred_train, average='weighted')\n",
    "\n",
    "SVM_accuracy_test, SVM_accuracy_train, svm_f1_test, svm_f1_train"
   ]
  },
  {
   "cell_type": "code",
   "execution_count": 68,
   "metadata": {},
   "outputs": [
    {
     "name": "stdout",
     "output_type": "stream",
     "text": [
      "TEST CM\n",
      " [[745  11   2]\n",
      " [ 34 226   0]\n",
      " [110  17   9]]\n",
      "-*-*-*-*-*-*-*-*-*-*-*-*-*-*-*-*-*-*-*-*-*-*-*-*-*-*-*-*-*-*\n",
      "TRAIN CM \n",
      " [[3017   17    0]\n",
      " [  89  948    1]\n",
      " [ 452   42   49]]\n",
      "TEST REPORT \n",
      "               precision    recall  f1-score   support\n",
      "\n",
      "           1      0.838     0.983     0.905       758\n",
      "           2      0.890     0.869     0.879       260\n",
      "           3      0.818     0.066     0.122       136\n",
      "\n",
      "    accuracy                          0.849      1154\n",
      "   macro avg      0.849     0.639     0.636      1154\n",
      "weighted avg      0.847     0.849     0.807      1154\n",
      "\n",
      "-*-*-*-*-*-*-*-*-*-*-*-*-*-*-*-*-*-*-*-*-*-*-*-*-*-*-*-*-*-*\n",
      "TRAIN REPORT \n",
      "               precision    recall  f1-score   support\n",
      "\n",
      "           1      0.848     0.994     0.915      3034\n",
      "           2      0.941     0.913     0.927      1038\n",
      "           3      0.980     0.090     0.165       543\n",
      "\n",
      "    accuracy                          0.870      4615\n",
      "   macro avg      0.923     0.666     0.669      4615\n",
      "weighted avg      0.885     0.870     0.830      4615\n",
      "\n"
     ]
    }
   ],
   "source": [
    "print(\"TEST CM\\n\" , confusion_matrix(y_test, y_pred_test))\n",
    "print(\"-*\"*30)\n",
    "print(\"TRAIN CM \\n\", confusion_matrix(y_train, y_pred_train))\n",
    "\n",
    "print(\"TEST REPORT \\n\", classification_report(y_test, y_pred_test, digits= 3))\n",
    "print(\"-*\"*30)\n",
    "print(\"TRAIN REPORT \\n\", classification_report(y_train, y_pred_train, digits= 3))"
   ]
  },
  {
   "cell_type": "markdown",
   "metadata": {
    "heading_collapsed": true,
    "hidden": true,
    "id": "28y9nWxG1b7E"
   },
   "source": [
    "###  SVC Model GridsearchCV"
   ]
  },
  {
   "cell_type": "code",
   "execution_count": 69,
   "metadata": {
    "id": "4dFocgCo1-0Z"
   },
   "outputs": [
    {
     "name": "stdout",
     "output_type": "stream",
     "text": [
      "Fitting 5 folds for each of 3 candidates, totalling 15 fits\n"
     ]
    },
    {
     "data": {
      "text/plain": [
       "GridSearchCV(estimator=Pipeline(steps=[('column_transfer',\n",
       "                                        ColumnTransformer(remainder='passthrough',\n",
       "                                                          transformers=[('onehotencoder',\n",
       "                                                                         OneHotEncoder(handle_unknown='ignore',\n",
       "                                                                                       sparse=False),\n",
       "                                                                         ['Gender',\n",
       "                                                                          'Component',\n",
       "                                                                          'Branch',\n",
       "                                                                          'WritingPreference'])])),\n",
       "                                       ('scaler', MinMaxScaler()),\n",
       "                                       ('SVM', SVC())]),\n",
       "             n_jobs=-1,\n",
       "             param_grid={'SVM__C': [1], 'SVM__class_weight': ['balanced'],\n",
       "                         'SVM__gamma': ['scale', 'auto', 0.05]},\n",
       "             scoring='f1', verbose=2)"
      ]
     },
     "execution_count": 69,
     "metadata": {},
     "output_type": "execute_result"
    }
   ],
   "source": [
    "param_grid = {'SVM__C': [1],\n",
    "              'SVM__gamma' : [\"scale\", \"auto\", 0.05],\n",
    "              'SVM__class_weight' : ['balanced'],\n",
    "             # 'SVM__kernel': ['rbf', 'sigmoid', 'poly', 'linear']\n",
    "            }\n",
    "\n",
    "operations = [('column_transfer', column_trans), ('scaler', scaler), ('SVM', modelSVM)]\n",
    "model = Pipeline(steps=operations)\n",
    "\n",
    "svm_model_grid = GridSearchCV(model,\n",
    "                              param_grid,\n",
    "                              verbose=2,\n",
    "                              scoring=\"f1\",\n",
    "                              refit=True,\n",
    "                              n_jobs=-1)\n",
    "\n",
    "svm_model_grid.fit(X_train, y_train)\n"
   ]
  },
  {
   "cell_type": "code",
   "execution_count": 70,
   "metadata": {},
   "outputs": [
    {
     "data": {
      "text/plain": [
       "{'SVM__C': 1, 'SVM__class_weight': 'balanced', 'SVM__gamma': 'scale'}"
      ]
     },
     "execution_count": 70,
     "metadata": {},
     "output_type": "execute_result"
    }
   ],
   "source": [
    "svm_model_grid.best_params_"
   ]
  },
  {
   "cell_type": "code",
   "execution_count": 71,
   "metadata": {},
   "outputs": [],
   "source": [
    "y_pred_test = svm_model_grid.predict(X_test)\n",
    "y_pred_train = svm_model_grid.predict(X_train)"
   ]
  },
  {
   "cell_type": "code",
   "execution_count": 72,
   "metadata": {},
   "outputs": [
    {
     "data": {
      "text/plain": [
       "(0.8180242634315424, 0.857204767063922, 0.8314887780788077, 0.8693643182464783)"
      ]
     },
     "execution_count": 72,
     "metadata": {},
     "output_type": "execute_result"
    }
   ],
   "source": [
    "SVM_accuracy_test = accuracy_score(y_test, y_pred_test)\n",
    "SVM_accuracy_train = accuracy_score(y_train, y_pred_train)\n",
    "\n",
    "svm_f1_test = f1_score(y_test, y_pred_test, average='weighted')\n",
    "svm_f1_train = f1_score(y_train, y_pred_train, average='weighted')\n",
    "\n",
    "SVM_accuracy_test, SVM_accuracy_train, svm_f1_test, svm_f1_train"
   ]
  },
  {
   "cell_type": "code",
   "execution_count": 73,
   "metadata": {},
   "outputs": [
    {
     "name": "stdout",
     "output_type": "stream",
     "text": [
      "TEST CM\n",
      " [[620  18 120]\n",
      " [ 16 233  11]\n",
      " [ 30  15  91]]\n",
      "-*-*-*-*-*-*-*-*-*-*-*-*-*-*-*-*-*-*-*-*-*-*-*-*-*-*-*-*-*-*\n",
      "TRAIN CM \n",
      " [[2550   42  442]\n",
      " [  24  974   40]\n",
      " [  83   28  432]]\n",
      "TEST REPORT \n",
      "               precision    recall  f1-score   support\n",
      "\n",
      "           1      0.931     0.818     0.871       758\n",
      "           2      0.876     0.896     0.886       260\n",
      "           3      0.410     0.669     0.508       136\n",
      "\n",
      "    accuracy                          0.818      1154\n",
      "   macro avg      0.739     0.794     0.755      1154\n",
      "weighted avg      0.857     0.818     0.831      1154\n",
      "\n",
      "-*-*-*-*-*-*-*-*-*-*-*-*-*-*-*-*-*-*-*-*-*-*-*-*-*-*-*-*-*-*\n",
      "TRAIN REPORT \n",
      "               precision    recall  f1-score   support\n",
      "\n",
      "           1      0.960     0.840     0.896      3034\n",
      "           2      0.933     0.938     0.936      1038\n",
      "           3      0.473     0.796     0.593       543\n",
      "\n",
      "    accuracy                          0.857      4615\n",
      "   macro avg      0.788     0.858     0.808      4615\n",
      "weighted avg      0.896     0.857     0.869      4615\n",
      "\n"
     ]
    }
   ],
   "source": [
    "print(\"TEST CM\\n\" , confusion_matrix(y_test, y_pred_test))\n",
    "print(\"-*\"*30)\n",
    "print(\"TRAIN CM \\n\", confusion_matrix(y_train, y_pred_train))\n",
    "\n",
    "print(\"TEST REPORT \\n\", classification_report(y_test, y_pred_test, digits= 3))\n",
    "print(\"-*\"*30)\n",
    "print(\"TRAIN REPORT \\n\", classification_report(y_train, y_pred_train, digits= 3))"
   ]
  },
  {
   "cell_type": "markdown",
   "metadata": {
    "heading_collapsed": true,
    "hidden": true,
    "id": "bDX_iLIls74C"
   },
   "source": [
    "## 3. RF"
   ]
  },
  {
   "cell_type": "markdown",
   "metadata": {
    "heading_collapsed": true,
    "hidden": true,
    "id": "qaTzrT6P1b7G"
   },
   "source": [
    "### Vanilla RF Model"
   ]
  },
  {
   "cell_type": "code",
   "execution_count": 76,
   "metadata": {},
   "outputs": [],
   "source": [
    "scaler = MinMaxScaler()"
   ]
  },
  {
   "cell_type": "code",
   "execution_count": 82,
   "metadata": {},
   "outputs": [
    {
     "data": {
      "text/plain": [
       "['Gender', 'Component', 'Branch', 'WritingPreference']"
      ]
     },
     "execution_count": 82,
     "metadata": {},
     "output_type": "execute_result"
    }
   ],
   "source": [
    "cat"
   ]
  },
  {
   "cell_type": "code",
   "execution_count": 83,
   "metadata": {},
   "outputs": [],
   "source": [
    "from sklearn.compose import make_column_transformer\n",
    "from sklearn.preprocessing import OrdinalEncoder\n",
    "\n",
    "\n",
    "ord_enc = OrdinalEncoder(handle_unknown='use_encoded_value', unknown_value=-1)\n",
    "\n",
    "column_trans = make_column_transformer((ord_enc, cat), remainder='passthrough')"
   ]
  },
  {
   "cell_type": "code",
   "execution_count": 84,
   "metadata": {},
   "outputs": [
    {
     "data": {
      "text/plain": [
       "Pipeline(steps=[('OrdinalEncoder',\n",
       "                 ColumnTransformer(remainder='passthrough',\n",
       "                                   transformers=[('ordinalencoder',\n",
       "                                                  OrdinalEncoder(handle_unknown='use_encoded_value',\n",
       "                                                                 unknown_value=-1),\n",
       "                                                  ['Gender', 'Component',\n",
       "                                                   'Branch',\n",
       "                                                   'WritingPreference'])])),\n",
       "                ('scaler', MinMaxScaler()),\n",
       "                ('RF_model',\n",
       "                 RandomForestClassifier(class_weight='balanced',\n",
       "                                        random_state=101))])"
      ]
     },
     "execution_count": 84,
     "metadata": {},
     "output_type": "execute_result"
    }
   ],
   "source": [
    "operations = [(\"OrdinalEncoder\", column_trans), ('scaler', scaler), (\"RF_model\", RandomForestClassifier(class_weight=\"balanced\", \n",
    "                                                                                    random_state=101))]\n",
    "\n",
    "pipe_model = Pipeline(steps=operations)\n",
    "\n",
    "pipe_model.fit(X_train, y_train)"
   ]
  },
  {
   "cell_type": "code",
   "execution_count": 85,
   "metadata": {},
   "outputs": [],
   "source": [
    "from sklearn.metrics import confusion_matrix, classification_report, accuracy_score, recall_score, precision_score,f1_score\n",
    "\n",
    "def eval_metric(model):\n",
    "    y_train_pred = model.predict(X_train)\n",
    "    y_pred = model.predict(X_test)\n",
    "    \n",
    "    print(\"Test_Set\")\n",
    "    print(confusion_matrix(y_test, y_pred))\n",
    "    print(classification_report(y_test, y_pred))\n",
    "    print()\n",
    "    print(\"Train_Set\")\n",
    "    print(confusion_matrix(y_train, y_train_pred))\n",
    "    print(classification_report(y_train, y_train_pred))"
   ]
  },
  {
   "cell_type": "code",
   "execution_count": 86,
   "metadata": {},
   "outputs": [
    {
     "name": "stdout",
     "output_type": "stream",
     "text": [
      "Test_Set\n",
      "[[747  10   1]\n",
      " [ 74 186   0]\n",
      " [119  14   3]]\n",
      "              precision    recall  f1-score   support\n",
      "\n",
      "           1       0.79      0.99      0.88       758\n",
      "           2       0.89      0.72      0.79       260\n",
      "           3       0.75      0.02      0.04       136\n",
      "\n",
      "    accuracy                           0.81      1154\n",
      "   macro avg       0.81      0.57      0.57      1154\n",
      "weighted avg       0.81      0.81      0.76      1154\n",
      "\n",
      "\n",
      "Train_Set\n",
      "[[3034    0    0]\n",
      " [   0 1038    0]\n",
      " [   0    0  543]]\n",
      "              precision    recall  f1-score   support\n",
      "\n",
      "           1       1.00      1.00      1.00      3034\n",
      "           2       1.00      1.00      1.00      1038\n",
      "           3       1.00      1.00      1.00       543\n",
      "\n",
      "    accuracy                           1.00      4615\n",
      "   macro avg       1.00      1.00      1.00      4615\n",
      "weighted avg       1.00      1.00      1.00      4615\n",
      "\n"
     ]
    }
   ],
   "source": [
    "eval_metric(pipe_model)"
   ]
  },
  {
   "cell_type": "code",
   "execution_count": 87,
   "metadata": {},
   "outputs": [
    {
     "data": {
      "text/plain": [
       "test_accuracy            0.802383\n",
       "train_accuracy           1.000000\n",
       "test_precision_micro     0.802383\n",
       "train_precision_micro    1.000000\n",
       "test_recall_micro        0.802383\n",
       "train_recall_micro       1.000000\n",
       "test_f1_micro            0.802383\n",
       "train_f1_micro           1.000000\n",
       "dtype: float64"
      ]
     },
     "execution_count": 87,
     "metadata": {},
     "output_type": "execute_result"
    }
   ],
   "source": [
    "operations = [(\"OrdinalEncoder\", column_trans), ('scaler', scaler), (\"RF_model\", RandomForestClassifier(class_weight=\"balanced\", \n",
    "                                                                                    random_state=101))]\n",
    "\n",
    "model = Pipeline(steps=operations)\n",
    "\n",
    "scores = cross_validate(model, X_train, y_train, scoring = [\"accuracy\", \"precision_micro\", \"recall_micro\", \"f1_micro\"], \n",
    "                        cv = 10, return_train_score=True)\n",
    "df_scores = pd.DataFrame(scores, index = range(1, 11))\n",
    "df_scores.mean()[2:]"
   ]
  },
  {
   "cell_type": "code",
   "execution_count": 108,
   "metadata": {},
   "outputs": [
    {
     "data": {
      "image/png": "[encoded data removed]",
      "text/plain": [
       "<Figure size 576x396 with 1 Axes>"
      ]
     },
     "metadata": {},
     "output_type": "display_data"
    }
   ],
   "source": [
    "from scikitplot.metrics import plot_roc, precision_recall_curve\n",
    "\n",
    "operations = [(\"OrdinalEncoder\", column_trans), ('scaler', scaler), (\"RF_model\", RandomForestClassifier(class_weight=\"balanced\", \n",
    "                                                                                    random_state=101))]\n",
    "\n",
    "\n",
    "model = Pipeline(steps=operations)\n",
    "\n",
    "model.fit(X_train, y_train)\n",
    "\n",
    "y_pred_proba = model.predict_proba(X_test)\n",
    "    \n",
    "plot_roc(y_test, y_pred_proba)\n",
    "plt.show();"
   ]
  },
  {
   "cell_type": "markdown",
   "metadata": {
    "heading_collapsed": true,
    "hidden": true,
    "id": "MkLAZ_M41b7G"
   },
   "source": [
    "### RF Model GridsearchCV"
   ]
  },
  {
   "cell_type": "code",
   "execution_count": 97,
   "metadata": {
    "id": "hpmPr3202EbD"
   },
   "outputs": [],
   "source": [
    "param_grid = {'RF_model__n_estimators':[300,400,500],\n",
    "             'RF_model__max_depth':[2,3]}"
   ]
  },
  {
   "cell_type": "code",
   "execution_count": 98,
   "metadata": {},
   "outputs": [],
   "source": [
    "operations = [(\"OrdinalEncoder\", column_trans), ('scaler', scaler), (\"RF_model\", RandomForestClassifier(class_weight=\"balanced\", \n",
    "                                                                                    random_state=101))]\n",
    "model = Pipeline(steps=operations)\n",
    "rf_grid_model = GridSearchCV(model,\n",
    "                             param_grid,\n",
    "                             verbose=3,\n",
    "                             scoring='f1_macro',\n",
    "                             n_jobs=-1,\n",
    "                             return_train_score=True)"
   ]
  },
  {
   "cell_type": "code",
   "execution_count": 99,
   "metadata": {},
   "outputs": [
    {
     "name": "stdout",
     "output_type": "stream",
     "text": [
      "Fitting 5 folds for each of 6 candidates, totalling 30 fits\n"
     ]
    },
    {
     "data": {
      "text/plain": [
       "GridSearchCV(estimator=Pipeline(steps=[('OrdinalEncoder',\n",
       "                                        ColumnTransformer(remainder='passthrough',\n",
       "                                                          transformers=[('ordinalencoder',\n",
       "                                                                         OrdinalEncoder(handle_unknown='use_encoded_value',\n",
       "                                                                                        unknown_value=-1),\n",
       "                                                                         ['Gender',\n",
       "                                                                          'Component',\n",
       "                                                                          'Branch',\n",
       "                                                                          'WritingPreference'])])),\n",
       "                                       ('scaler', MinMaxScaler()),\n",
       "                                       ('RF_model',\n",
       "                                        RandomForestClassifier(class_weight='balanced',\n",
       "                                                               random_state=101))]),\n",
       "             n_jobs=-1,\n",
       "             param_grid={'RF_model__max_depth': [2, 3],\n",
       "                         'RF_model__n_estimators': [300, 400, 500]},\n",
       "             return_train_score=True, scoring='f1_macro', verbose=3)"
      ]
     },
     "execution_count": 99,
     "metadata": {},
     "output_type": "execute_result"
    }
   ],
   "source": [
    "rf_grid_model.fit(X_train,y_train)"
   ]
  },
  {
   "cell_type": "code",
   "execution_count": 100,
   "metadata": {},
   "outputs": [
    {
     "data": {
      "text/plain": [
       "Pipeline(steps=[('OrdinalEncoder',\n",
       "                 ColumnTransformer(remainder='passthrough',\n",
       "                                   transformers=[('ordinalencoder',\n",
       "                                                  OrdinalEncoder(handle_unknown='use_encoded_value',\n",
       "                                                                 unknown_value=-1),\n",
       "                                                  ['Gender', 'Component',\n",
       "                                                   'Branch',\n",
       "                                                   'WritingPreference'])])),\n",
       "                ('scaler', MinMaxScaler()),\n",
       "                ('RF_model',\n",
       "                 RandomForestClassifier(class_weight='balanced', max_depth=3,\n",
       "                                        n_estimators=400, random_state=101))])"
      ]
     },
     "execution_count": 100,
     "metadata": {},
     "output_type": "execute_result"
    }
   ],
   "source": [
    "rf_grid_model.best_estimator_"
   ]
  },
  {
   "cell_type": "code",
   "execution_count": 101,
   "metadata": {},
   "outputs": [
    {
     "data": {
      "text/plain": [
       "{'RF_model__max_depth': 3, 'RF_model__n_estimators': 400}"
      ]
     },
     "execution_count": 101,
     "metadata": {},
     "output_type": "execute_result"
    }
   ],
   "source": [
    "rf_grid_model.best_params_"
   ]
  },
  {
   "cell_type": "code",
   "execution_count": 102,
   "metadata": {},
   "outputs": [
    {
     "data": {
      "text/plain": [
       "4"
      ]
     },
     "execution_count": 102,
     "metadata": {},
     "output_type": "execute_result"
    }
   ],
   "source": [
    "rf_grid_model.best_index_"
   ]
  },
  {
   "cell_type": "code",
   "execution_count": 103,
   "metadata": {},
   "outputs": [
    {
     "data": {
      "text/plain": [
       "mean_test_score     0.565165\n",
       "mean_train_score    0.590935\n",
       "Name: 4, dtype: object"
      ]
     },
     "execution_count": 103,
     "metadata": {},
     "output_type": "execute_result"
    }
   ],
   "source": [
    "pd.DataFrame(rf_grid_model.cv_results_).loc[4, [\"mean_test_score\", \"mean_train_score\"]]"
   ]
  },
  {
   "cell_type": "code",
   "execution_count": 104,
   "metadata": {},
   "outputs": [
    {
     "data": {
      "text/plain": [
       "0.5651654306373015"
      ]
     },
     "execution_count": 104,
     "metadata": {},
     "output_type": "execute_result"
    }
   ],
   "source": [
    "rf_grid_model.best_score_"
   ]
  },
  {
   "cell_type": "code",
   "execution_count": 105,
   "metadata": {},
   "outputs": [
    {
     "name": "stdout",
     "output_type": "stream",
     "text": [
      "Test_Set\n",
      "[[407  72 279]\n",
      " [ 29 195  36]\n",
      " [ 33  20  83]]\n",
      "              precision    recall  f1-score   support\n",
      "\n",
      "           1       0.87      0.54      0.66       758\n",
      "           2       0.68      0.75      0.71       260\n",
      "           3       0.21      0.61      0.31       136\n",
      "\n",
      "    accuracy                           0.59      1154\n",
      "   macro avg       0.59      0.63      0.56      1154\n",
      "weighted avg       0.75      0.59      0.63      1154\n",
      "\n",
      "\n",
      "Train_Set\n",
      "[[1654  265 1115]\n",
      " [  79  808  151]\n",
      " [ 131   45  367]]\n",
      "              precision    recall  f1-score   support\n",
      "\n",
      "           1       0.89      0.55      0.68      3034\n",
      "           2       0.72      0.78      0.75      1038\n",
      "           3       0.22      0.68      0.34       543\n",
      "\n",
      "    accuracy                           0.61      4615\n",
      "   macro avg       0.61      0.67      0.59      4615\n",
      "weighted avg       0.77      0.61      0.65      4615\n",
      "\n"
     ]
    }
   ],
   "source": [
    "eval_metric(rf_grid_model)"
   ]
  },
  {
   "cell_type": "code",
   "execution_count": 113,
   "metadata": {},
   "outputs": [
    {
     "data": {
      "image/png": "[encoded data removed]",
      "text/plain": [
       "<Figure size 576x396 with 1 Axes>"
      ]
     },
     "metadata": {},
     "output_type": "display_data"
    }
   ],
   "source": [
    "operations = [(\"OrdinalEncoder\", column_trans), ('scaler', scaler), (\"RF_model\", RandomForestClassifier(class_weight=\"balanced\", \n",
    "                                                    max_depth=3, n_estimators=400, random_state=101))]\n",
    "\n",
    "model = Pipeline(steps=operations)\n",
    "\n",
    "model.fit(X_train, y_train)\n",
    "\n",
    "y_pred_proba = model.predict_proba(X_test)\n",
    "    \n",
    "plot_roc(y_test, y_pred_proba)\n",
    "plt.show();"
   ]
  },
  {
   "cell_type": "markdown",
   "metadata": {
    "heading_collapsed": true,
    "hidden": true,
    "id": "PvcPc4V81b7H"
   },
   "source": [
    "## 4. XGBoost"
   ]
  },
  {
   "cell_type": "markdown",
   "metadata": {
    "heading_collapsed": true,
    "hidden": true,
    "id": "MuxxUFoW1b7H"
   },
   "source": [
    "### Vanilla XGBoost Model"
   ]
  },
  {
   "cell_type": "code",
   "execution_count": 117,
   "metadata": {},
   "outputs": [
    {
     "data": {
      "text/plain": [
       "'1.7.2'"
      ]
     },
     "execution_count": 117,
     "metadata": {},
     "output_type": "execute_result"
    }
   ],
   "source": [
    "import xgboost\n",
    "xgboost.__version__"
   ]
  },
  {
   "cell_type": "code",
   "execution_count": 118,
   "metadata": {
    "id": "Nfi1aa152HbR"
   },
   "outputs": [
    {
     "ename": "ValueError",
     "evalue": "Invalid classes inferred from unique values of `y`.  Expected: [0 1 2], got [1 2 3]",
     "output_type": "error",
     "traceback": [
      "\u001b[1;31m---------------------------------------------------------------------------\u001b[0m",
      "\u001b[1;31mValueError\u001b[0m                                Traceback (most recent call last)",
      "Input \u001b[1;32mIn [118]\u001b[0m, in \u001b[0;36m<cell line: 5>\u001b[1;34m()\u001b[0m\n\u001b[0;32m      1\u001b[0m operations_xgb \u001b[38;5;241m=\u001b[39m [(\u001b[38;5;124m\"\u001b[39m\u001b[38;5;124mOrdinalEncoder\u001b[39m\u001b[38;5;124m\"\u001b[39m, column_trans), (\u001b[38;5;124m\"\u001b[39m\u001b[38;5;124mXGB_model\u001b[39m\u001b[38;5;124m\"\u001b[39m, XGBClassifier(random_state\u001b[38;5;241m=\u001b[39m\u001b[38;5;241m101\u001b[39m))]\n\u001b[0;32m      3\u001b[0m pipe_model_xgb \u001b[38;5;241m=\u001b[39m Pipeline(steps\u001b[38;5;241m=\u001b[39moperations_xgb)\n\u001b[1;32m----> 5\u001b[0m \u001b[43mpipe_model_xgb\u001b[49m\u001b[38;5;241;43m.\u001b[39;49m\u001b[43mfit\u001b[49m\u001b[43m(\u001b[49m\u001b[43mX_train\u001b[49m\u001b[43m,\u001b[49m\u001b[43m \u001b[49m\u001b[43my_train\u001b[49m\u001b[43m)\u001b[49m\n",
      "File \u001b[1;32m~\\anaconda3\\lib\\site-packages\\sklearn\\pipeline.py:394\u001b[0m, in \u001b[0;36mPipeline.fit\u001b[1;34m(self, X, y, **fit_params)\u001b[0m\n\u001b[0;32m    392\u001b[0m     \u001b[38;5;28;01mif\u001b[39;00m \u001b[38;5;28mself\u001b[39m\u001b[38;5;241m.\u001b[39m_final_estimator \u001b[38;5;241m!=\u001b[39m \u001b[38;5;124m\"\u001b[39m\u001b[38;5;124mpassthrough\u001b[39m\u001b[38;5;124m\"\u001b[39m:\n\u001b[0;32m    393\u001b[0m         fit_params_last_step \u001b[38;5;241m=\u001b[39m fit_params_steps[\u001b[38;5;28mself\u001b[39m\u001b[38;5;241m.\u001b[39msteps[\u001b[38;5;241m-\u001b[39m\u001b[38;5;241m1\u001b[39m][\u001b[38;5;241m0\u001b[39m]]\n\u001b[1;32m--> 394\u001b[0m         \u001b[38;5;28mself\u001b[39m\u001b[38;5;241m.\u001b[39m_final_estimator\u001b[38;5;241m.\u001b[39mfit(Xt, y, \u001b[38;5;241m*\u001b[39m\u001b[38;5;241m*\u001b[39mfit_params_last_step)\n\u001b[0;32m    396\u001b[0m \u001b[38;5;28;01mreturn\u001b[39;00m \u001b[38;5;28mself\u001b[39m\n",
      "File \u001b[1;32m~\\anaconda3\\lib\\site-packages\\xgboost\\core.py:620\u001b[0m, in \u001b[0;36mrequire_keyword_args.<locals>.throw_if.<locals>.inner_f\u001b[1;34m(*args, **kwargs)\u001b[0m\n\u001b[0;32m    618\u001b[0m \u001b[38;5;28;01mfor\u001b[39;00m k, arg \u001b[38;5;129;01min\u001b[39;00m \u001b[38;5;28mzip\u001b[39m(sig\u001b[38;5;241m.\u001b[39mparameters, args):\n\u001b[0;32m    619\u001b[0m     kwargs[k] \u001b[38;5;241m=\u001b[39m arg\n\u001b[1;32m--> 620\u001b[0m \u001b[38;5;28;01mreturn\u001b[39;00m func(\u001b[38;5;241m*\u001b[39m\u001b[38;5;241m*\u001b[39mkwargs)\n",
      "File \u001b[1;32m~\\anaconda3\\lib\\site-packages\\xgboost\\sklearn.py:1466\u001b[0m, in \u001b[0;36mXGBClassifier.fit\u001b[1;34m(self, X, y, sample_weight, base_margin, eval_set, eval_metric, early_stopping_rounds, verbose, xgb_model, sample_weight_eval_set, base_margin_eval_set, feature_weights, callbacks)\u001b[0m\n\u001b[0;32m   1461\u001b[0m     expected_classes \u001b[38;5;241m=\u001b[39m np\u001b[38;5;241m.\u001b[39marange(\u001b[38;5;28mself\u001b[39m\u001b[38;5;241m.\u001b[39mn_classes_)\n\u001b[0;32m   1462\u001b[0m \u001b[38;5;28;01mif\u001b[39;00m (\n\u001b[0;32m   1463\u001b[0m     \u001b[38;5;28mself\u001b[39m\u001b[38;5;241m.\u001b[39mclasses_\u001b[38;5;241m.\u001b[39mshape \u001b[38;5;241m!=\u001b[39m expected_classes\u001b[38;5;241m.\u001b[39mshape\n\u001b[0;32m   1464\u001b[0m     \u001b[38;5;129;01mor\u001b[39;00m \u001b[38;5;129;01mnot\u001b[39;00m (\u001b[38;5;28mself\u001b[39m\u001b[38;5;241m.\u001b[39mclasses_ \u001b[38;5;241m==\u001b[39m expected_classes)\u001b[38;5;241m.\u001b[39mall()\n\u001b[0;32m   1465\u001b[0m ):\n\u001b[1;32m-> 1466\u001b[0m     \u001b[38;5;28;01mraise\u001b[39;00m \u001b[38;5;167;01mValueError\u001b[39;00m(\n\u001b[0;32m   1467\u001b[0m         \u001b[38;5;124mf\u001b[39m\u001b[38;5;124m\"\u001b[39m\u001b[38;5;124mInvalid classes inferred from unique values of `y`.  \u001b[39m\u001b[38;5;124m\"\u001b[39m\n\u001b[0;32m   1468\u001b[0m         \u001b[38;5;124mf\u001b[39m\u001b[38;5;124m\"\u001b[39m\u001b[38;5;124mExpected: \u001b[39m\u001b[38;5;132;01m{\u001b[39;00mexpected_classes\u001b[38;5;132;01m}\u001b[39;00m\u001b[38;5;124m, got \u001b[39m\u001b[38;5;132;01m{\u001b[39;00m\u001b[38;5;28mself\u001b[39m\u001b[38;5;241m.\u001b[39mclasses_\u001b[38;5;132;01m}\u001b[39;00m\u001b[38;5;124m\"\u001b[39m\n\u001b[0;32m   1469\u001b[0m     )\n\u001b[0;32m   1471\u001b[0m params \u001b[38;5;241m=\u001b[39m \u001b[38;5;28mself\u001b[39m\u001b[38;5;241m.\u001b[39mget_xgb_params()\n\u001b[0;32m   1473\u001b[0m \u001b[38;5;28;01mif\u001b[39;00m callable(\u001b[38;5;28mself\u001b[39m\u001b[38;5;241m.\u001b[39mobjective):\n",
      "\u001b[1;31mValueError\u001b[0m: Invalid classes inferred from unique values of `y`.  Expected: [0 1 2], got [1 2 3]"
     ]
    }
   ],
   "source": [
    "operations_xgb = [(\"OrdinalEncoder\", column_trans), (\"XGB_model\", XGBClassifier(random_state=101))]\n",
    "\n",
    "pipe_model_xgb = Pipeline(steps=operations_xgb)\n",
    "\n",
    "pipe_model_xgb.fit(X_train, y_train)"
   ]
  },
  {
   "cell_type": "markdown",
   "metadata": {
    "heading_collapsed": true,
    "hidden": true,
    "id": "p3gH5QvE1b7I"
   },
   "source": [
    "### XGBoost Model GridsearchCV"
   ]
  },
  {
   "cell_type": "code",
   "execution_count": null,
   "metadata": {
    "id": "72E3Cmnm2KOE"
   },
   "outputs": [],
   "source": []
  },
  {
   "cell_type": "markdown",
   "metadata": {
    "hidden": true,
    "id": "DbXAmOPVDatl"
   },
   "source": [
    "---\n",
    "---"
   ]
  },
  {
   "cell_type": "markdown",
   "metadata": {
    "hidden": true,
    "id": "WvWpInu21b7L"
   },
   "source": [
    "---\n",
    "---"
   ]
  },
  {
   "cell_type": "markdown",
   "metadata": {
    "heading_collapsed": true,
    "id": "xg2k1ScZ1b7L"
   },
   "source": [
    "# SMOTE\n",
    "https://machinelearningmastery.com/smote-oversampling-for-imbalanced-classification/"
   ]
  },
  {
   "cell_type": "markdown",
   "metadata": {
    "hidden": true,
    "id": "9Rqk02x61b7L"
   },
   "source": [
    "##  Smote implement"
   ]
  },
  {
   "cell_type": "code",
   "execution_count": null,
   "metadata": {
    "hidden": true,
    "id": "XTN4iO7i1b7L"
   },
   "outputs": [],
   "source": [
    "!pip install imblearn"
   ]
  },
  {
   "cell_type": "code",
   "execution_count": null,
   "metadata": {
    "hidden": true,
    "id": "Cv5155AN1b7L"
   },
   "outputs": [],
   "source": [
    "from imblearn.over_sampling import SMOTE\n",
    "from imblearn.under_sampling import RandomUnderSampler\n",
    "from imblearn.pipeline import Pipeline"
   ]
  },
  {
   "cell_type": "markdown",
   "metadata": {
    "hidden": true,
    "id": "aoKU_HZR1b7M"
   },
   "source": [
    "## SVC Over/Under Sampling"
   ]
  },
  {
   "cell_type": "code",
   "execution_count": null,
   "metadata": {
    "id": "JkNSgnut2Z6N"
   },
   "outputs": [],
   "source": []
  },
  {
   "cell_type": "markdown",
   "metadata": {
    "hidden": true,
    "id": "1hBIqmFL1b7O"
   },
   "source": [
    "## Xgboost Over/ Under Sampling"
   ]
  },
  {
   "cell_type": "code",
   "execution_count": null,
   "metadata": {
    "id": "12AItu1M2ds0"
   },
   "outputs": [],
   "source": []
  },
  {
   "cell_type": "markdown",
   "metadata": {
    "hidden": true,
    "id": "T1pPLjpA1b7P"
   },
   "source": [
    "- Evaluation metrics \n",
    "https://towardsdatascience.com/comprehensive-guide-on-multiclass-classification-metrics-af94cfb83fbd"
   ]
  },
  {
   "cell_type": "code",
   "execution_count": null,
   "metadata": {
    "hidden": true,
    "id": "Me3OZtQF1b7P",
    "outputId": "6280fddb-b392-40c1-87d3-57d242ce2528"
   },
   "outputs": [],
   "source": [
    "from sklearn.metrics import matthews_corrcoef\n",
    "\n",
    "matthews_corrcoef(y_test, y_pred)"
   ]
  },
  {
   "cell_type": "code",
   "execution_count": null,
   "metadata": {
    "hidden": true,
    "id": "P74oLhzK1b7P",
    "outputId": "350b8e9d-dd72-4566-8b11-10526699cd94"
   },
   "outputs": [],
   "source": [
    "from sklearn.metrics import cohen_kappa_score\n",
    "\n",
    "cohen_kappa_score(y_test, y_pred)"
   ]
  },
  {
   "cell_type": "markdown",
   "metadata": {
    "heading_collapsed": true,
    "id": "AVnS0UKO1b7P"
   },
   "source": [
    "#  SHAP\n",
    "\n",
    "https://towardsdatascience.com/shap-explain-any-machine-learning-model-in-python-24207127cad7"
   ]
  },
  {
   "cell_type": "code",
   "execution_count": null,
   "metadata": {
    "hidden": true,
    "id": "-vB4oVMU1b7P",
    "outputId": "f9c79861-e5c2-4a60-a2f7-02e6c52a82f3",
    "scrolled": true
   },
   "outputs": [],
   "source": [
    "# !pip install shap"
   ]
  },
  {
   "cell_type": "code",
   "execution_count": null,
   "metadata": {
    "hidden": true,
    "id": "ryW4sFrT1b7P"
   },
   "outputs": [],
   "source": [
    "import shap\n",
    "explainer = shap.Explainer(log_model,X_train)\n",
    "start_index = 203\n",
    "end_index = 204\n",
    "shap_values = explainer.shap_values(X_test[start_index:end_index])"
   ]
  },
  {
   "cell_type": "code",
   "execution_count": null,
   "metadata": {
    "hidden": true,
    "id": "eTTPiHfB1b7Q",
    "scrolled": true
   },
   "outputs": [],
   "source": [
    "shap_values"
   ]
  },
  {
   "cell_type": "code",
   "execution_count": null,
   "metadata": {
    "hidden": true,
    "id": "IVG77ukO1b7Q",
    "outputId": "96901cda-3c6c-4fe4-a36b-eb43b08cc86e"
   },
   "outputs": [],
   "source": [
    "print(shap_values[0].shape)"
   ]
  },
  {
   "cell_type": "code",
   "execution_count": null,
   "metadata": {
    "hidden": true,
    "id": "Ea2YZzkQ1b7Q"
   },
   "outputs": [],
   "source": [
    "# %% >> Visualize local predictions\n",
    "shap.initjs()\n",
    "# Force plot\n",
    "prediction = log_model.predict(X_test[start_index:end_index])[0]\n",
    "print(f\"The log_model predicted: {prediction}\")\n",
    "shap.force_plot(explainer.expected_value[1],\n",
    "                shap_values[1],\n",
    "                X_test[start_index:end_index], # for values\n",
    "                feature_names= X.columns,) "
   ]
  },
  {
   "cell_type": "code",
   "execution_count": null,
   "metadata": {
    "hidden": true,
    "id": "DscXral61b7Q",
    "scrolled": true
   },
   "outputs": [],
   "source": [
    "shap.summary_plot(shap_values, X_train,max_display=300,feature_names = X.columns)"
   ]
  },
  {
   "cell_type": "markdown",
   "metadata": {
    "heading_collapsed": true,
    "id": "9hxUcvZG1b7J"
   },
   "source": [
    "# Before the Deployment \n",
    "- Choose the model that works best based on your chosen metric\n",
    "- For final step, fit the best model with whole dataset to get better performance.\n",
    "- And your model ready to deploy, dump your model and scaler."
   ]
  },
  {
   "cell_type": "code",
   "execution_count": null,
   "metadata": {
    "id": "4UOn_G0n2N2Z"
   },
   "outputs": [],
   "source": []
  },
  {
   "cell_type": "markdown",
   "metadata": {
    "hidden": true,
    "id": "g8_x-BiN1b7Q"
   },
   "source": [
    "___\n",
    "\n",
    "<p style=\"text-align: center;\"><img src=\"https://docs.google.com/uc?id=1lY0Uj5R04yMY3-ZppPWxqCr5pvBLYPnV\" class=\"img-fluid\" alt=\"CLRSWY\"></p>\n",
    "\n",
    "___"
   ]
  }
 ],
 "metadata": {
  "colab": {
   "collapsed_sections": [
    "K7UZHtvu1b62",
    "C5lJeTBu1b65",
    "TMjCTEG51b67",
    "CS5-GZy0sl4s",
    "zfi_NOw0s2fM",
    "p3gH5QvE1b7I",
    "9hxUcvZG1b7J",
    "9Rqk02x61b7L",
    "aoKU_HZR1b7M",
    "1hBIqmFL1b7O",
    "AVnS0UKO1b7P"
   ],
   "name": "soldier_race_project_students.ipynb",
   "provenance": []
  },
  "hide_input": false,
  "interpreter": {
   "hash": "e4e90950cb561445fc7289d5187c528b28750a487d008a70b474c773afaf79b7"
  },
  "kernelspec": {
   "display_name": "Python 3 (ipykernel)",
   "language": "python",
   "name": "python3"
  },
  "language_info": {
   "codemirror_mode": {
    "name": "ipython",
    "version": 3
   },
   "file_extension": ".py",
   "mimetype": "text/x-python",
   "name": "python",
   "nbconvert_exporter": "python",
   "pygments_lexer": "ipython3",
   "version": "3.9.12"
  },
  "toc": {
   "base_numbering": 1,
   "nav_menu": {},
   "number_sections": true,
   "sideBar": true,
   "skip_h1_title": false,
   "title_cell": "Table of Contents",
   "title_sidebar": "Contents",
   "toc_cell": false,
   "toc_position": {
    "height": "calc(100% - 180px)",
    "left": "10px",
    "top": "150px",
    "width": "338.797px"
   },
   "toc_section_display": true,
   "toc_window_display": false
  },
  "varInspector": {
   "cols": {
    "lenName": 16,
    "lenType": 16,
    "lenVar": 40
   },
   "kernels_config": {
    "python": {
     "delete_cmd_postfix": "",
     "delete_cmd_prefix": "del ",
     "library": "var_list.py",
     "varRefreshCmd": "print(var_dic_list())"
    },
    "r": {
     "delete_cmd_postfix": ") ",
     "delete_cmd_prefix": "rm(",
     "library": "var_list.r",
     "varRefreshCmd": "cat(var_dic_list()) "
    }
   },
   "oldHeight": 527,
   "position": {
    "height": "40px",
    "left": "1034px",
    "right": "20px",
    "top": "185px",
    "width": "661px"
   },
   "types_to_exclude": [
    "module",
    "function",
    "builtin_function_or_method",
    "instance",
    "_Feature"
   ],
   "varInspector_section_display": "none",
   "window_display": false
  }
 },
 "nbformat": 4,
 "nbformat_minor": 1
}
